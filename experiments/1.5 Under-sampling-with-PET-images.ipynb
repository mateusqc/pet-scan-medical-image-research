{
 "cells": [
  {
   "cell_type": "code",
   "execution_count": null,
   "id": "c85f85b7",
   "metadata": {},
   "outputs": [],
   "source": [
    "import os\n",
    "import pathlib\n",
    "import pandas as pd\n",
    "import random\n",
    "import numpy as np\n",
    "import matplotlib.pyplot as plt\n",
    "from dataclasses import dataclass\n",
    "import nibabel as nib\n",
    "from nilearn import plotting\n",
    "import cv2\n",
    "from tqdm import tqdm\n",
    "import gc"
   ]
  },
  {
   "cell_type": "code",
   "execution_count": null,
   "id": "c6fe7ee0",
   "metadata": {},
   "outputs": [],
   "source": [
    "@dataclass(frozen=True)\n",
    "class DatasetConfig:\n",
    "    NUM_CLASSES: int = 43\n",
    "    IMG_HEIGHT:  int = 224\n",
    "    IMG_WIDTH:   int = 224\n",
    "    CHANNELS:    int = 3\n",
    "    SEED_VALUE:  int = 41\n",
    "    CUT_PLANE:   str = \"escolha do corte: sagital/coronal\"\n",
    "         \n",
    "    DATA_ROOT_SOURCE_PATH: str = 'caminho do dataset'\n",
    "    MAIN_DATA_CSV_PATH: str = DATA_ROOT_SOURCE_PATH + '\\\\fdg_metadata.csv'\n",
    "    DATA_ROOT_TARGET:  str = f'caminho de onde será gerados as imagens{CUT_PLANE}' \n",
    "    DATA_ROOT_TRAIN:  str = DATA_ROOT_TARGET + '/Train' \n",
    "    DATA_ROOT_VALID:  str = DATA_ROOT_TARGET + '/Valid'\n",
    "    DATA_ROOT_TEST:   str = DATA_ROOT_TARGET + '/Test'\n",
    "    DATA_TEST_GT:     str = DATA_ROOT_TARGET + '/Test.csv'"
   ]
  },
  {
   "cell_type": "code",
   "execution_count": null,
   "id": "cbbe6409",
   "metadata": {},
   "outputs": [],
   "source": [
    "random.seed(DatasetConfig.SEED_VALUE)\n",
    "np.random.seed(DatasetConfig.SEED_VALUE)"
   ]
  },
  {
   "cell_type": "code",
   "execution_count": null,
   "id": "c936becd",
   "metadata": {},
   "outputs": [],
   "source": [
    "fdg_data = pd.read_csv(DatasetConfig.MAIN_DATA_CSV_PATH)\n",
    "fdg_data"
   ]
  },
  {
   "cell_type": "code",
   "execution_count": null,
   "id": "fe4342c5",
   "metadata": {},
   "outputs": [],
   "source": [
    "fdg_data[\"Number of Images\"].describe()"
   ]
  },
  {
   "cell_type": "code",
   "execution_count": null,
   "id": "936b7821",
   "metadata": {},
   "outputs": [],
   "source": [
    "def get_image_path(record):\n",
    "    prefix = record[\"Subject ID\"].split(\"_\")[-1]\n",
    "    sufix = record[\"File Location\"].split(\"/\")[-2]\n",
    "    folder = \"labelsTr\" if record[\"Modality\"] == \"SEG\" else \"imagesTr\"\n",
    "    \n",
    "    final_number = \"\"\n",
    "    if record[\"Modality\"] == \"CT\":\n",
    "        final_number = \"_0000\"\n",
    "    if record[\"Modality\"] == \"PT\":\n",
    "        final_number = \"_0001\"\n",
    "        \n",
    "    return DatasetConfig.DATA_ROOT_SOURCE_PATH + f\"/{folder}/fdg_{prefix}_{sufix}{final_number}.nii.gz\""
   ]
  },
  {
   "cell_type": "code",
   "execution_count": null,
   "id": "b96dfde9",
   "metadata": {},
   "outputs": [],
   "source": [
    "fdg_data"
   ]
  },
  {
   "cell_type": "code",
   "execution_count": null,
   "id": "b0a87125",
   "metadata": {},
   "outputs": [],
   "source": [
    "pre_processed_df = fdg_data.copy()"
   ]
  },
  {
   "cell_type": "code",
   "execution_count": null,
   "id": "e0d773c9",
   "metadata": {},
   "outputs": [],
   "source": [
    "pre_processed_df.diagnosis = pre_processed_df.diagnosis.apply(lambda x: \"POSITIVE\" if x != \"NEGATIVE\" else x)\n",
    "pre_processed_df = pre_processed_df[[\"Subject ID\",\"Study UID\",\"Modality\",\"Number of Images\",\"File Location\",\"diagnosis\"]]\n",
    "pre_processed_df"
   ]
  },
  {
   "cell_type": "code",
   "execution_count": null,
   "id": "78407071",
   "metadata": {},
   "outputs": [],
   "source": [
    "pre_processed_df[\"Study UID\"].iloc[0]"
   ]
  },
  {
   "cell_type": "code",
   "execution_count": null,
   "id": "1d6ff5ce",
   "metadata": {},
   "outputs": [],
   "source": [
    "single_reg_df = pre_processed_df[[\"Subject ID\", \"Study UID\", \"diagnosis\"]].copy().drop_duplicates()\n",
    "# adding columns to dataframe \n",
    "single_reg_df[\"sliceNum\"] = None\n",
    "single_reg_df[\"totalSlices\"] = None\n",
    "single_reg_df[\"filePath\"] = None\n",
    "single_reg_df[\"height\"] = None\n",
    "single_reg_df[\"width\"] = None\n",
    "single_reg_df"
   ]
  },
  {
   "cell_type": "code",
   "execution_count": null,
   "id": "2e2d2a88",
   "metadata": {},
   "outputs": [],
   "source": [
    "single_reg_df.diagnosis.value_counts()"
   ]
  },
  {
   "cell_type": "code",
   "execution_count": null,
   "id": "88f64073",
   "metadata": {},
   "outputs": [],
   "source": [
    "target_data_df = single_reg_df.iloc[0:0].copy()\n",
    "target_data_df"
   ]
  },
  {
   "cell_type": "code",
   "execution_count": null,
   "id": "004bbb46",
   "metadata": {},
   "outputs": [],
   "source": [
    "def get_modalities_from_study_uid(study_uid):\n",
    "    row_CT = pre_processed_df[(pre_processed_df[\"Study UID\"] == study_uid) & (pre_processed_df[\"Modality\"] == \"CT\")].iloc[0]\n",
    "    row_PET = pre_processed_df[(pre_processed_df[\"Study UID\"] == study_uid) & (pre_processed_df[\"Modality\"] == \"PT\")].iloc[0]\n",
    "    row_SEG = pre_processed_df[(pre_processed_df[\"Study UID\"] == study_uid) & (pre_processed_df[\"Modality\"] == \"SEG\")].iloc[0]\n",
    "    return row_CT, row_PET, row_SEG"
   ]
  },
  {
   "cell_type": "code",
   "execution_count": null,
   "id": "3109443c",
   "metadata": {},
   "outputs": [],
   "source": [
    "def get_annotated_slices(seg_img, slices_num, cut_plane=\"coronal\"):\n",
    "    annotated_slices = []\n",
    "    for i in range(slices_num):\n",
    "        curr_image = None\n",
    "        if cut_plane == \"coronal\":\n",
    "            curr_image = seg_img[:, i, :]\n",
    "        elif cut_plane == \"sagital\":\n",
    "            curr_image = seg_img[i, :, :]\n",
    "        else:\n",
    "            curr_image = seg_img[:, :, i]\n",
    "        \n",
    "        if curr_image[curr_image != 0].size > 0: #verificação se há marcações de anotação do especialista\n",
    "            annotated_slices.append(i)\n",
    "    \n",
    "    return annotated_slices"
   ]
  },
  {
   "cell_type": "code",
   "execution_count": null,
   "id": "65a64c43",
   "metadata": {},
   "outputs": [],
   "source": [
    "#não está sendo usada\n",
    "'''\n",
    "def show_all_modalities(seg_img, pet_img, ct_img):\n",
    "    plt.imshow(seg_img, cmap=\"hot\")\n",
    "    plt.show()\n",
    "\n",
    "    plt.imshow(pet_img.T, cmap=\"gist_yarg\", origin='lower')\n",
    "    plt.show()\n",
    "\n",
    "    plt.imshow(ct_img.T, cmap=\"gray\", origin='lower')\n",
    "    plt.show()"
   ]
  },
  {
   "cell_type": "code",
   "execution_count": null,
   "id": "8855b5d6",
   "metadata": {},
   "outputs": [],
   "source": [
    "def get_plane(seg, pet, ct, slice_index, plane):\n",
    "    if plane == 'coronal':\n",
    "        return seg[:, slice_index, :], pet[:, slice_index, :], None if ct is None else ct[:, slice_index, :]\n",
    "    elif plane == 'sagital':\n",
    "        return seg[slice_index, :, :], pet[slice_index, :, :], None if ct is None else ct[slice_index, :, :]\n",
    "    else:\n",
    "        return seg[:, :, slice_index], pet[:, :, slice_index], None if ct is None else ct[:, :, slice_index]"
   ]
  },
  {
   "cell_type": "code",
   "execution_count": null,
   "id": "aae2b669",
   "metadata": {},
   "outputs": [],
   "source": [
    "#não está sendo usada\n",
    "'''\n",
    "def get_full_image_from_slices(pet, ct):\n",
    "    blank_channel = np.zeros((len(ct), len(ct[0]))) # gera terceiro canal da imagem vazio, preenchido de zeros\n",
    "    np_img = np.dstack((ct, pet, blank_channel))\n",
    "    return np.rot90(np_img, k=1, axes = (0,1))"
   ]
  },
  {
   "cell_type": "code",
   "execution_count": null,
   "id": "3bdbf54e",
   "metadata": {},
   "outputs": [],
   "source": [
    "def get_target_file_name(row, cut_index):\n",
    "    return f\"{DatasetConfig.DATA_ROOT_TARGET}\\\\{row['Subject ID']}-{row['Study UID']}-{cut_index}.png\""
   ]
  },
  {
   "cell_type": "code",
   "execution_count": null,
   "id": "3eeab46c",
   "metadata": {},
   "outputs": [],
   "source": [
    "def get_num_slices_from_cut_plane(shape, cut_plane=\"coronal\"):\n",
    "    if cut_plane == \"coronal\":\n",
    "        return shape[1]\n",
    "    elif cut_plane == \"sagital\":\n",
    "        return shape[0]\n",
    "    else:\n",
    "        return shape[2]"
   ]
  },
  {
   "cell_type": "code",
   "execution_count": null,
   "id": "a485b8ca",
   "metadata": {},
   "outputs": [],
   "source": [
    "#não está sendo usada\n",
    "'''\n",
    "def get_equivalent_slice(origin_selected, origin_total, target_total):\n",
    "    return (target_total * origin_selected) // origin_total"
   ]
  },
  {
   "cell_type": "code",
   "execution_count": null,
   "id": "28d2559d",
   "metadata": {},
   "outputs": [],
   "source": [
    "negative_df = single_reg_df[single_reg_df.diagnosis == \"NEGATIVE\"].copy()"
   ]
  },
  {
   "cell_type": "code",
   "execution_count": null,
   "id": "9683edad",
   "metadata": {},
   "outputs": [],
   "source": [
    "def process_positive_element(positive_df, negative_df, target_data_path):\n",
    "    records = []\n",
    "\n",
    "    if negative_df.empty:        # Verificar se o dataframe negativo não está vazio\n",
    "        raise ValueError(\"O dataframe de pacientes negativos está vazio. Certifique-se de que ele esteja corretamente preenchido.\")\n",
    "\n",
    "    \n",
    "    negative_list = negative_df.to_dict('records') # Converter o dataframe negativo em uma lista de pacientes para rotação\n",
    "    neg_index = 0  # Índice para rotação dos pacientes negativos\n",
    "\n",
    "    # Iterar sobre cada linha do dataframe positivo\n",
    "    for _, pos_row in tqdm(positive_df.iterrows(), total=positive_df.shape[0], desc=\"Processando Pacientes Positivos\"):\n",
    "        try:\n",
    "            # Carregar imagens\n",
    "            print(f\"Carregando imagens para o paciente positivo: {pos_row['Study UID']}\")\n",
    "            _, pet_img, seg_img = get_modalities_from_study_uid(pos_row[\"Study UID\"])\n",
    "            pet_img = nib.load(get_image_path(pet_img)).get_fdata()\n",
    "            seg_img = nib.load(get_image_path(seg_img)).get_fdata()\n",
    "\n",
    "            num_slices = get_num_slices_from_cut_plane(seg_img.shape, DatasetConfig.CUT_PLANE) #numero total de fatias do paciente\n",
    "\n",
    "            annotated_slices = get_annotated_slices(seg_img, num_slices, cut_plane=DatasetConfig.CUT_PLANE) #fatias com ativação\n",
    "\n",
    "            # Selecionar um paciente negativo em rotação\n",
    "            neg_row = negative_list[neg_index]\n",
    "            neg_index = (neg_index + 1) % len(negative_list)  # Atualizar índice para rotação\n",
    "\n",
    "            print(f\"Carregando imagem PET para o paciente negativo: {neg_row['Study UID']}\")\n",
    "            _, neg_pet_img, _ = get_modalities_from_study_uid(neg_row[\"Study UID\"])\n",
    "\n",
    "            neg_pet_img = nib.load(get_image_path(neg_pet_img)).get_fdata()\n",
    "\n",
    "            for slice_index in annotated_slices:\n",
    "                #pacientes da classe positiva\n",
    "                _, pet_slice, _ = get_plane(seg_img, pet_img, None, slice_index, DatasetConfig.CUT_PLANE)\n",
    "                positive_filename = get_target_file_name(pos_row, slice_index)\n",
    "                save_as_png(pet_slice, positive_filename)\n",
    "                records.append((pos_row[\"Study UID\"], pet_img.shape, slice_index, positive_filename))\n",
    "\n",
    "                #pacientesw negativos\n",
    "                _, neg_pet_slice, _ = get_plane(seg_img, neg_pet_img, None, slice_index, DatasetConfig.CUT_PLANE)\n",
    "                negative_filename = get_target_file_name(neg_row, slice_index)\n",
    "                save_as_png(neg_pet_slice, negative_filename)   # Salvar como PNG de 16 bits             \n",
    "                records.append((neg_row[\"Study UID\"], neg_pet_img.shape, slice_index, negative_filename)) # Adicionar registro ao dataframe\n",
    "\n",
    "        except Exception as e:\n",
    "            print(f\"Erro ao processar o paciente {pos_row['Study UID']}: {e}\")\n",
    "        finally:\n",
    "            # Limpar a memória após cada iteração\n",
    "            del pet_img, seg_img, neg_pet_img\n",
    "            gc.collect()\n",
    "\n",
    "    return records"
   ]
  },
  {
   "cell_type": "code",
   "execution_count": null,
   "id": "e9f2d882",
   "metadata": {},
   "outputs": [],
   "source": [
    "def save_as_png(image_slice, file_path):\n",
    "    \n",
    "    image_norm = cv2.normalize(image_slice, None, alpha=0, beta=65535, norm_type=cv2.NORM_MINMAX, dtype=cv2.CV_16U) # Normalizar a imagem para o intervalo de 16 bits\n",
    "    \n",
    "    # Salvar a imagem\n",
    "    os.makedirs(os.path.dirname(file_path), exist_ok=True)\n",
    "    cv2.imwrite(file_path, image_norm)"
   ]
  },
  {
   "cell_type": "code",
   "execution_count": null,
   "id": "d67fd8a8",
   "metadata": {},
   "outputs": [],
   "source": [
    "single_reg_df[single_reg_df.diagnosis == \"POSITIVE\"]"
   ]
  },
  {
   "cell_type": "code",
   "execution_count": null,
   "id": "790c9951",
   "metadata": {},
   "outputs": [],
   "source": [
    "def add_record_to_target_df(study_uid, shape, selected_slice, image_path, cut_plane=\"coronal\"):\n",
    "    row = single_reg_df[single_reg_df[\"Study UID\"] == study_uid].to_dict(orient='records')[0]\n",
    "    row[\"totalSlices\"] = shape[1]\n",
    "    row[\"sliceNum\"] = selected_slice\n",
    "    row[\"filePath\"] = image_path.replace(DatasetConfig.DATA_ROOT_TARGET, '') # removendo caminho absoluto, deixando apenas relativo\n",
    "\n",
    "    # Carrega a imagem gerada\n",
    "    img = cv2.imread(image_path, cv2.IMREAD_UNCHANGED)  # Carrega como 16 bits\n",
    "    height, width = img.shape\n",
    "    \n",
    "    row[\"height\"] = height\n",
    "    row[\"width\"] = width\n",
    "    \n",
    "    return pd.concat([target_data_df, pd.DataFrame([row])], ignore_index=True)"
   ]
  },
  {
   "cell_type": "code",
   "execution_count": null,
   "id": "7f1ad526",
   "metadata": {},
   "outputs": [],
   "source": [
    "target_data_df"
   ]
  },
  {
   "cell_type": "code",
   "execution_count": null,
   "id": "4b73b995",
   "metadata": {},
   "outputs": [],
   "source": [
    "positive_records_df = single_reg_df[single_reg_df.diagnosis == \"POSITIVE\"]\n",
    "rows_to_iterate = positive_records_df.sample(random_state=DatasetConfig.SEED_VALUE + 123, frac=1)\n",
    "\n",
    "records = process_positive_element(rows_to_iterate, negative_df, DatasetConfig.DATA_ROOT_TARGET)\n",
    "for record in records:\n",
    "    study_uid, shape, selected_slice, img_path = record\n",
    "    target_data_df = add_record_to_target_df(study_uid, shape, selected_slice, img_path)"
   ]
  },
  {
   "cell_type": "code",
   "execution_count": null,
   "id": "b28167bb",
   "metadata": {},
   "outputs": [],
   "source": [
    "target_data_df"
   ]
  },
  {
   "cell_type": "code",
   "execution_count": null,
   "id": "26ce6589",
   "metadata": {},
   "outputs": [],
   "source": [
    "target_data_df.to_csv(f\"{DatasetConfig.DATA_ROOT_TARGET}/data_description.csv\")"
   ]
  },
  {
   "cell_type": "code",
   "execution_count": null,
   "id": "58c89b9c",
   "metadata": {},
   "outputs": [],
   "source": [
    "subject_id_counts = target_data_df['Subject ID'].value_counts()\n",
    "print(subject_id_counts)"
   ]
  },
  {
   "cell_type": "code",
   "execution_count": null,
   "id": "87b7bd83",
   "metadata": {},
   "outputs": [],
   "source": []
  },
  {
   "cell_type": "code",
   "execution_count": null,
   "id": "e14a2bc7",
   "metadata": {},
   "outputs": [],
   "source": []
  },
  {
   "cell_type": "code",
   "execution_count": null,
   "id": "dbd6cda0",
   "metadata": {},
   "outputs": [],
   "source": []
  },
  {
   "cell_type": "code",
   "execution_count": null,
   "id": "5b1edd87",
   "metadata": {},
   "outputs": [],
   "source": []
  }
 ],
 "metadata": {
  "kernelspec": {
   "display_name": "Python 3",
   "language": "python",
   "name": "python3"
  },
  "language_info": {
   "codemirror_mode": {
    "name": "ipython",
    "version": 3
   },
   "file_extension": ".py",
   "mimetype": "text/x-python",
   "name": "python",
   "nbconvert_exporter": "python",
   "pygments_lexer": "ipython3",
   "version": "3.6.13"
  }
 },
 "nbformat": 4,
 "nbformat_minor": 5
}
