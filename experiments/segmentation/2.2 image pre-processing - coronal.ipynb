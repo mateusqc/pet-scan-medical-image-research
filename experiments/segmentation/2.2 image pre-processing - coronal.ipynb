{
 "cells": [
  {
   "cell_type": "code",
   "execution_count": 185,
   "id": "a3997abd-647f-4ab3-a327-d493c408ff7f",
   "metadata": {},
   "outputs": [],
   "source": [
    "import pandas as pd\n",
    "import numpy as np\n",
    "import matplotlib.pyplot as plt\n",
    "import cv2\n",
    "from dataclasses import dataclass\n",
    "import pathlib"
   ]
  },
  {
   "cell_type": "code",
   "execution_count": 186,
   "id": "b63ba6d8-cbdf-4b9c-a60f-bba8edc27f86",
   "metadata": {},
   "outputs": [],
   "source": [
    "@dataclass(frozen=True)\n",
    "class DatasetConfig:\n",
    "    SEED_VALUE:  int = 41\n",
    "    CUT_PLANE:   str = \"sagital\"\n",
    "         \n",
    "    DATA_ROOT_SOURCE_PATH: str = '/home/jovyan/data/auto-pet-iii/2024-05-10_Autopet_v1.1'\n",
    "    MAIN_DATA_CSV_PATH: str = DATA_ROOT_SOURCE_PATH + '/fdg_metadata.csv'\n",
    "    DATA_ROOT_TARGET:  str = f'/home/jovyan/data/segmentation/autopet-min-{CUT_PLANE}' \n",
    "    DATA_ROOT_TRAIN:  str = DATA_ROOT_TARGET + '/Train' \n",
    "    DATA_ROOT_VALID:  str = DATA_ROOT_TARGET + '/Valid'\n",
    "    DATA_ROOT_TEST:   str = DATA_ROOT_TARGET + '/Test'\n",
    "    DATA_TEST_GT:     str = DATA_ROOT_TARGET + '/Test.csv'"
   ]
  },
  {
   "cell_type": "code",
   "execution_count": 187,
   "id": "2d1bd39f-430a-4239-a6d4-bfd6d9fb89c3",
   "metadata": {},
   "outputs": [],
   "source": [
    "# train, val and test split"
   ]
  },
  {
   "cell_type": "code",
   "execution_count": 188,
   "id": "cbd9f1b1-6986-42cd-92ec-31b2ee7cb4cf",
   "metadata": {},
   "outputs": [
    {
     "ename": "FileNotFoundError",
     "evalue": "[Errno 2] No such file or directory: '/home/jovyan/data/segmentation/autopet-min-sagital/data_description.csv'",
     "output_type": "error",
     "traceback": [
      "\u001b[0;31m---------------------------------------------------------------------------\u001b[0m",
      "\u001b[0;31mFileNotFoundError\u001b[0m                         Traceback (most recent call last)",
      "Cell \u001b[0;32mIn[188], line 1\u001b[0m\n\u001b[0;32m----> 1\u001b[0m data_df \u001b[38;5;241m=\u001b[39m \u001b[43mpd\u001b[49m\u001b[38;5;241;43m.\u001b[39;49m\u001b[43mread_csv\u001b[49m\u001b[43m(\u001b[49m\u001b[43mDatasetConfig\u001b[49m\u001b[38;5;241;43m.\u001b[39;49m\u001b[43mDATA_ROOT_TARGET\u001b[49m\u001b[43m \u001b[49m\u001b[38;5;241;43m+\u001b[39;49m\u001b[43m \u001b[49m\u001b[38;5;124;43m\"\u001b[39;49m\u001b[38;5;124;43m/data_description.csv\u001b[39;49m\u001b[38;5;124;43m\"\u001b[39;49m\u001b[43m)\u001b[49m\n\u001b[1;32m      2\u001b[0m data_df\n",
      "File \u001b[0;32m/opt/conda/lib/python3.11/site-packages/pandas/io/parsers/readers.py:1026\u001b[0m, in \u001b[0;36mread_csv\u001b[0;34m(filepath_or_buffer, sep, delimiter, header, names, index_col, usecols, dtype, engine, converters, true_values, false_values, skipinitialspace, skiprows, skipfooter, nrows, na_values, keep_default_na, na_filter, verbose, skip_blank_lines, parse_dates, infer_datetime_format, keep_date_col, date_parser, date_format, dayfirst, cache_dates, iterator, chunksize, compression, thousands, decimal, lineterminator, quotechar, quoting, doublequote, escapechar, comment, encoding, encoding_errors, dialect, on_bad_lines, delim_whitespace, low_memory, memory_map, float_precision, storage_options, dtype_backend)\u001b[0m\n\u001b[1;32m   1013\u001b[0m kwds_defaults \u001b[38;5;241m=\u001b[39m _refine_defaults_read(\n\u001b[1;32m   1014\u001b[0m     dialect,\n\u001b[1;32m   1015\u001b[0m     delimiter,\n\u001b[0;32m   (...)\u001b[0m\n\u001b[1;32m   1022\u001b[0m     dtype_backend\u001b[38;5;241m=\u001b[39mdtype_backend,\n\u001b[1;32m   1023\u001b[0m )\n\u001b[1;32m   1024\u001b[0m kwds\u001b[38;5;241m.\u001b[39mupdate(kwds_defaults)\n\u001b[0;32m-> 1026\u001b[0m \u001b[38;5;28;01mreturn\u001b[39;00m \u001b[43m_read\u001b[49m\u001b[43m(\u001b[49m\u001b[43mfilepath_or_buffer\u001b[49m\u001b[43m,\u001b[49m\u001b[43m \u001b[49m\u001b[43mkwds\u001b[49m\u001b[43m)\u001b[49m\n",
      "File \u001b[0;32m/opt/conda/lib/python3.11/site-packages/pandas/io/parsers/readers.py:620\u001b[0m, in \u001b[0;36m_read\u001b[0;34m(filepath_or_buffer, kwds)\u001b[0m\n\u001b[1;32m    617\u001b[0m _validate_names(kwds\u001b[38;5;241m.\u001b[39mget(\u001b[38;5;124m\"\u001b[39m\u001b[38;5;124mnames\u001b[39m\u001b[38;5;124m\"\u001b[39m, \u001b[38;5;28;01mNone\u001b[39;00m))\n\u001b[1;32m    619\u001b[0m \u001b[38;5;66;03m# Create the parser.\u001b[39;00m\n\u001b[0;32m--> 620\u001b[0m parser \u001b[38;5;241m=\u001b[39m \u001b[43mTextFileReader\u001b[49m\u001b[43m(\u001b[49m\u001b[43mfilepath_or_buffer\u001b[49m\u001b[43m,\u001b[49m\u001b[43m \u001b[49m\u001b[38;5;241;43m*\u001b[39;49m\u001b[38;5;241;43m*\u001b[39;49m\u001b[43mkwds\u001b[49m\u001b[43m)\u001b[49m\n\u001b[1;32m    622\u001b[0m \u001b[38;5;28;01mif\u001b[39;00m chunksize \u001b[38;5;129;01mor\u001b[39;00m iterator:\n\u001b[1;32m    623\u001b[0m     \u001b[38;5;28;01mreturn\u001b[39;00m parser\n",
      "File \u001b[0;32m/opt/conda/lib/python3.11/site-packages/pandas/io/parsers/readers.py:1620\u001b[0m, in \u001b[0;36mTextFileReader.__init__\u001b[0;34m(self, f, engine, **kwds)\u001b[0m\n\u001b[1;32m   1617\u001b[0m     \u001b[38;5;28mself\u001b[39m\u001b[38;5;241m.\u001b[39moptions[\u001b[38;5;124m\"\u001b[39m\u001b[38;5;124mhas_index_names\u001b[39m\u001b[38;5;124m\"\u001b[39m] \u001b[38;5;241m=\u001b[39m kwds[\u001b[38;5;124m\"\u001b[39m\u001b[38;5;124mhas_index_names\u001b[39m\u001b[38;5;124m\"\u001b[39m]\n\u001b[1;32m   1619\u001b[0m \u001b[38;5;28mself\u001b[39m\u001b[38;5;241m.\u001b[39mhandles: IOHandles \u001b[38;5;241m|\u001b[39m \u001b[38;5;28;01mNone\u001b[39;00m \u001b[38;5;241m=\u001b[39m \u001b[38;5;28;01mNone\u001b[39;00m\n\u001b[0;32m-> 1620\u001b[0m \u001b[38;5;28mself\u001b[39m\u001b[38;5;241m.\u001b[39m_engine \u001b[38;5;241m=\u001b[39m \u001b[38;5;28;43mself\u001b[39;49m\u001b[38;5;241;43m.\u001b[39;49m\u001b[43m_make_engine\u001b[49m\u001b[43m(\u001b[49m\u001b[43mf\u001b[49m\u001b[43m,\u001b[49m\u001b[43m \u001b[49m\u001b[38;5;28;43mself\u001b[39;49m\u001b[38;5;241;43m.\u001b[39;49m\u001b[43mengine\u001b[49m\u001b[43m)\u001b[49m\n",
      "File \u001b[0;32m/opt/conda/lib/python3.11/site-packages/pandas/io/parsers/readers.py:1880\u001b[0m, in \u001b[0;36mTextFileReader._make_engine\u001b[0;34m(self, f, engine)\u001b[0m\n\u001b[1;32m   1878\u001b[0m     \u001b[38;5;28;01mif\u001b[39;00m \u001b[38;5;124m\"\u001b[39m\u001b[38;5;124mb\u001b[39m\u001b[38;5;124m\"\u001b[39m \u001b[38;5;129;01mnot\u001b[39;00m \u001b[38;5;129;01min\u001b[39;00m mode:\n\u001b[1;32m   1879\u001b[0m         mode \u001b[38;5;241m+\u001b[39m\u001b[38;5;241m=\u001b[39m \u001b[38;5;124m\"\u001b[39m\u001b[38;5;124mb\u001b[39m\u001b[38;5;124m\"\u001b[39m\n\u001b[0;32m-> 1880\u001b[0m \u001b[38;5;28mself\u001b[39m\u001b[38;5;241m.\u001b[39mhandles \u001b[38;5;241m=\u001b[39m \u001b[43mget_handle\u001b[49m\u001b[43m(\u001b[49m\n\u001b[1;32m   1881\u001b[0m \u001b[43m    \u001b[49m\u001b[43mf\u001b[49m\u001b[43m,\u001b[49m\n\u001b[1;32m   1882\u001b[0m \u001b[43m    \u001b[49m\u001b[43mmode\u001b[49m\u001b[43m,\u001b[49m\n\u001b[1;32m   1883\u001b[0m \u001b[43m    \u001b[49m\u001b[43mencoding\u001b[49m\u001b[38;5;241;43m=\u001b[39;49m\u001b[38;5;28;43mself\u001b[39;49m\u001b[38;5;241;43m.\u001b[39;49m\u001b[43moptions\u001b[49m\u001b[38;5;241;43m.\u001b[39;49m\u001b[43mget\u001b[49m\u001b[43m(\u001b[49m\u001b[38;5;124;43m\"\u001b[39;49m\u001b[38;5;124;43mencoding\u001b[39;49m\u001b[38;5;124;43m\"\u001b[39;49m\u001b[43m,\u001b[49m\u001b[43m \u001b[49m\u001b[38;5;28;43;01mNone\u001b[39;49;00m\u001b[43m)\u001b[49m\u001b[43m,\u001b[49m\n\u001b[1;32m   1884\u001b[0m \u001b[43m    \u001b[49m\u001b[43mcompression\u001b[49m\u001b[38;5;241;43m=\u001b[39;49m\u001b[38;5;28;43mself\u001b[39;49m\u001b[38;5;241;43m.\u001b[39;49m\u001b[43moptions\u001b[49m\u001b[38;5;241;43m.\u001b[39;49m\u001b[43mget\u001b[49m\u001b[43m(\u001b[49m\u001b[38;5;124;43m\"\u001b[39;49m\u001b[38;5;124;43mcompression\u001b[39;49m\u001b[38;5;124;43m\"\u001b[39;49m\u001b[43m,\u001b[49m\u001b[43m \u001b[49m\u001b[38;5;28;43;01mNone\u001b[39;49;00m\u001b[43m)\u001b[49m\u001b[43m,\u001b[49m\n\u001b[1;32m   1885\u001b[0m \u001b[43m    \u001b[49m\u001b[43mmemory_map\u001b[49m\u001b[38;5;241;43m=\u001b[39;49m\u001b[38;5;28;43mself\u001b[39;49m\u001b[38;5;241;43m.\u001b[39;49m\u001b[43moptions\u001b[49m\u001b[38;5;241;43m.\u001b[39;49m\u001b[43mget\u001b[49m\u001b[43m(\u001b[49m\u001b[38;5;124;43m\"\u001b[39;49m\u001b[38;5;124;43mmemory_map\u001b[39;49m\u001b[38;5;124;43m\"\u001b[39;49m\u001b[43m,\u001b[49m\u001b[43m \u001b[49m\u001b[38;5;28;43;01mFalse\u001b[39;49;00m\u001b[43m)\u001b[49m\u001b[43m,\u001b[49m\n\u001b[1;32m   1886\u001b[0m \u001b[43m    \u001b[49m\u001b[43mis_text\u001b[49m\u001b[38;5;241;43m=\u001b[39;49m\u001b[43mis_text\u001b[49m\u001b[43m,\u001b[49m\n\u001b[1;32m   1887\u001b[0m \u001b[43m    \u001b[49m\u001b[43merrors\u001b[49m\u001b[38;5;241;43m=\u001b[39;49m\u001b[38;5;28;43mself\u001b[39;49m\u001b[38;5;241;43m.\u001b[39;49m\u001b[43moptions\u001b[49m\u001b[38;5;241;43m.\u001b[39;49m\u001b[43mget\u001b[49m\u001b[43m(\u001b[49m\u001b[38;5;124;43m\"\u001b[39;49m\u001b[38;5;124;43mencoding_errors\u001b[39;49m\u001b[38;5;124;43m\"\u001b[39;49m\u001b[43m,\u001b[49m\u001b[43m \u001b[49m\u001b[38;5;124;43m\"\u001b[39;49m\u001b[38;5;124;43mstrict\u001b[39;49m\u001b[38;5;124;43m\"\u001b[39;49m\u001b[43m)\u001b[49m\u001b[43m,\u001b[49m\n\u001b[1;32m   1888\u001b[0m \u001b[43m    \u001b[49m\u001b[43mstorage_options\u001b[49m\u001b[38;5;241;43m=\u001b[39;49m\u001b[38;5;28;43mself\u001b[39;49m\u001b[38;5;241;43m.\u001b[39;49m\u001b[43moptions\u001b[49m\u001b[38;5;241;43m.\u001b[39;49m\u001b[43mget\u001b[49m\u001b[43m(\u001b[49m\u001b[38;5;124;43m\"\u001b[39;49m\u001b[38;5;124;43mstorage_options\u001b[39;49m\u001b[38;5;124;43m\"\u001b[39;49m\u001b[43m,\u001b[49m\u001b[43m \u001b[49m\u001b[38;5;28;43;01mNone\u001b[39;49;00m\u001b[43m)\u001b[49m\u001b[43m,\u001b[49m\n\u001b[1;32m   1889\u001b[0m \u001b[43m\u001b[49m\u001b[43m)\u001b[49m\n\u001b[1;32m   1890\u001b[0m \u001b[38;5;28;01massert\u001b[39;00m \u001b[38;5;28mself\u001b[39m\u001b[38;5;241m.\u001b[39mhandles \u001b[38;5;129;01mis\u001b[39;00m \u001b[38;5;129;01mnot\u001b[39;00m \u001b[38;5;28;01mNone\u001b[39;00m\n\u001b[1;32m   1891\u001b[0m f \u001b[38;5;241m=\u001b[39m \u001b[38;5;28mself\u001b[39m\u001b[38;5;241m.\u001b[39mhandles\u001b[38;5;241m.\u001b[39mhandle\n",
      "File \u001b[0;32m/opt/conda/lib/python3.11/site-packages/pandas/io/common.py:873\u001b[0m, in \u001b[0;36mget_handle\u001b[0;34m(path_or_buf, mode, encoding, compression, memory_map, is_text, errors, storage_options)\u001b[0m\n\u001b[1;32m    868\u001b[0m \u001b[38;5;28;01melif\u001b[39;00m \u001b[38;5;28misinstance\u001b[39m(handle, \u001b[38;5;28mstr\u001b[39m):\n\u001b[1;32m    869\u001b[0m     \u001b[38;5;66;03m# Check whether the filename is to be opened in binary mode.\u001b[39;00m\n\u001b[1;32m    870\u001b[0m     \u001b[38;5;66;03m# Binary mode does not support 'encoding' and 'newline'.\u001b[39;00m\n\u001b[1;32m    871\u001b[0m     \u001b[38;5;28;01mif\u001b[39;00m ioargs\u001b[38;5;241m.\u001b[39mencoding \u001b[38;5;129;01mand\u001b[39;00m \u001b[38;5;124m\"\u001b[39m\u001b[38;5;124mb\u001b[39m\u001b[38;5;124m\"\u001b[39m \u001b[38;5;129;01mnot\u001b[39;00m \u001b[38;5;129;01min\u001b[39;00m ioargs\u001b[38;5;241m.\u001b[39mmode:\n\u001b[1;32m    872\u001b[0m         \u001b[38;5;66;03m# Encoding\u001b[39;00m\n\u001b[0;32m--> 873\u001b[0m         handle \u001b[38;5;241m=\u001b[39m \u001b[38;5;28mopen\u001b[39m(\n\u001b[1;32m    874\u001b[0m             handle,\n\u001b[1;32m    875\u001b[0m             ioargs\u001b[38;5;241m.\u001b[39mmode,\n\u001b[1;32m    876\u001b[0m             encoding\u001b[38;5;241m=\u001b[39mioargs\u001b[38;5;241m.\u001b[39mencoding,\n\u001b[1;32m    877\u001b[0m             errors\u001b[38;5;241m=\u001b[39merrors,\n\u001b[1;32m    878\u001b[0m             newline\u001b[38;5;241m=\u001b[39m\u001b[38;5;124m\"\u001b[39m\u001b[38;5;124m\"\u001b[39m,\n\u001b[1;32m    879\u001b[0m         )\n\u001b[1;32m    880\u001b[0m     \u001b[38;5;28;01melse\u001b[39;00m:\n\u001b[1;32m    881\u001b[0m         \u001b[38;5;66;03m# Binary mode\u001b[39;00m\n\u001b[1;32m    882\u001b[0m         handle \u001b[38;5;241m=\u001b[39m \u001b[38;5;28mopen\u001b[39m(handle, ioargs\u001b[38;5;241m.\u001b[39mmode)\n",
      "\u001b[0;31mFileNotFoundError\u001b[0m: [Errno 2] No such file or directory: '/home/jovyan/data/segmentation/autopet-min-sagital/data_description.csv'"
     ]
    }
   ],
   "source": [
    "data_df = pd.read_csv(DatasetConfig.DATA_ROOT_TARGET + \"/data_description.csv\")\n",
    "data_df"
   ]
  },
  {
   "cell_type": "code",
   "execution_count": null,
   "id": "a81c25a8-33ab-4650-ae48-452d8e652e37",
   "metadata": {},
   "outputs": [],
   "source": [
    "data_df.diagnosis.value_counts()"
   ]
  },
  {
   "cell_type": "code",
   "execution_count": null,
   "id": "76d00659-f0cc-4316-ad71-a8457bc5ef2c",
   "metadata": {},
   "outputs": [],
   "source": [
    "col_names = data_df.columns.to_list()\n",
    "col_names[0] = \"imageId\"\n",
    "col_names"
   ]
  },
  {
   "cell_type": "code",
   "execution_count": null,
   "id": "609eb4f5-14e6-4046-b56f-0ec5ee8e5a00",
   "metadata": {},
   "outputs": [],
   "source": [
    "data_df.columns = col_names\n",
    "data_df.head()"
   ]
  },
  {
   "cell_type": "code",
   "execution_count": null,
   "id": "d2ddceff-e6fb-492b-a83b-0776460b2ebe",
   "metadata": {},
   "outputs": [],
   "source": [
    "# new height will be based on the mean value\n",
    "data_df.height.describe()"
   ]
  },
  {
   "cell_type": "code",
   "execution_count": null,
   "id": "7d3e4a07-2ca9-410b-a90e-60f1903c7377",
   "metadata": {},
   "outputs": [],
   "source": [
    "data_df[data_df.height > 395]"
   ]
  },
  {
   "cell_type": "code",
   "execution_count": null,
   "id": "5320e643-2bcd-4ae8-9d68-6e442e008fa3",
   "metadata": {},
   "outputs": [],
   "source": [
    "data_df[data_df.height <= 395]"
   ]
  },
  {
   "cell_type": "code",
   "execution_count": null,
   "id": "105e21ff-d155-4272-9c47-4b2326102a43",
   "metadata": {},
   "outputs": [],
   "source": [
    "data_df.boxplot(column=[\"height\"])\n",
    "plt.show()"
   ]
  },
  {
   "cell_type": "code",
   "execution_count": null,
   "id": "014d7251-63dc-4290-9214-8e20af267de6",
   "metadata": {},
   "outputs": [],
   "source": [
    "data_df[data_df.height <= 395].boxplot(column=[\"height\"])\n",
    "plt.show()"
   ]
  },
  {
   "cell_type": "code",
   "execution_count": null,
   "id": "1714b8c7-22f0-46ab-8f31-939e2f9d5c8d",
   "metadata": {},
   "outputs": [],
   "source": [
    "data_df[data_df.height <= 395].height.max()"
   ]
  },
  {
   "cell_type": "code",
   "execution_count": null,
   "id": "4c307ba3-4822-4786-a1d7-616d76775659",
   "metadata": {},
   "outputs": [],
   "source": [
    "data_df.condition.value_counts()"
   ]
  },
  {
   "cell_type": "code",
   "execution_count": null,
   "id": "890470e6-ac30-439d-810a-0977d5664031",
   "metadata": {},
   "outputs": [],
   "source": [
    "# verify distribution of conditions with this filter applied\n",
    "data_df[data_df.height <= 395].condition.value_counts()"
   ]
  },
  {
   "cell_type": "code",
   "execution_count": null,
   "id": "bd0c9bde-01f3-4c7a-bb48-6a307697f71d",
   "metadata": {},
   "outputs": [],
   "source": [
    "# keep original df and filter the data_df\n",
    "original_df = data_df.copy()\n",
    "data_df = data_df[data_df.height <= 395].copy()"
   ]
  },
  {
   "cell_type": "markdown",
   "id": "0ac99508-079b-4c81-a2b6-b3b9dfe7fbb2",
   "metadata": {},
   "source": [
    "# Split and Export Images"
   ]
  },
  {
   "cell_type": "code",
   "execution_count": null,
   "id": "e3dbecc2-0498-4e8c-9786-ead50236c4b4",
   "metadata": {},
   "outputs": [],
   "source": [
    "@dataclass(frozen=True)\n",
    "class ImageResizeConfig:\n",
    "    height: int = 368\n",
    "    width: int = 400"
   ]
  },
  {
   "cell_type": "code",
   "execution_count": null,
   "id": "bb3558c0-8bbf-46f2-afc0-0c27220e7195",
   "metadata": {},
   "outputs": [],
   "source": [
    "def pre_process_and_export_record(row, is_segmentation=False):\n",
    "    image_path = DatasetConfig.DATA_ROOT_TARGET + (row[\"segPath\"] if is_segmentation else row[\"imagePath\"])\n",
    "    img = cv2.imread(image_path)\n",
    "    img = cv2.resize(img, (ImageResizeConfig.height, ImageResizeConfig.width))\n",
    "    img = cv2.normalize(img, None, alpha=0, beta=255, norm_type=cv2.NORM_MINMAX)\n",
    "    \n",
    "    img_modality = \"SEG\" if is_segmentation else \"PET\"\n",
    "    \n",
    "    destination_path = f\"{DatasetConfig.DATA_ROOT_TARGET}/{row.subset}/{img_modality}\"\n",
    "    pathlib.Path(destination_path).mkdir(parents=True, exist_ok=True)\n",
    "    destination_path = f\"{destination_path}/{row.imageId}.png\"\n",
    "    \n",
    "    cv2.imwrite(destination_path,img)"
   ]
  },
  {
   "cell_type": "code",
   "execution_count": null,
   "id": "6c06b194-3ba1-4045-a76b-3c042fa53943",
   "metadata": {},
   "outputs": [],
   "source": [
    "data_df[\"subset\"] = None"
   ]
  },
  {
   "cell_type": "code",
   "execution_count": null,
   "id": "3cd1fa24-7630-4da9-adb6-eb69c45f6622",
   "metadata": {},
   "outputs": [],
   "source": [
    "data_df.head()"
   ]
  },
  {
   "cell_type": "code",
   "execution_count": null,
   "id": "fcaab8fe-57f2-46ba-86a5-d77d9673ee7a",
   "metadata": {},
   "outputs": [],
   "source": [
    "data_df.condition.value_counts()"
   ]
  },
  {
   "cell_type": "code",
   "execution_count": null,
   "id": "f4a6cdec-99fc-436b-8c1e-7a4b09f81868",
   "metadata": {},
   "outputs": [],
   "source": [
    "# split needs to take into account the condition of patient\n",
    "train_df = pd.concat([\n",
    "            data_df[data_df.condition == \"LUNG_CANCER\"].sample(frac=0.8, random_state=DatasetConfig.SEED_VALUE),\n",
    "            data_df[data_df.condition == \"LYMPHOMA\"].sample(frac=0.8, random_state=DatasetConfig.SEED_VALUE),\n",
    "            data_df[data_df.condition == \"MELANOMA\"].sample(frac=0.8, random_state=DatasetConfig.SEED_VALUE)\n",
    "        ]).sample(frac=1, random_state=DatasetConfig.SEED_VALUE)\n",
    "train_df"
   ]
  },
  {
   "cell_type": "code",
   "execution_count": null,
   "id": "9287c17c-70a7-4fe9-bbdf-dbb879a49b6e",
   "metadata": {},
   "outputs": [],
   "source": [
    "test_df = data_df.drop(train_df.index, inplace=False).sample(frac=1, random_state=DatasetConfig.SEED_VALUE)\n",
    "test_df"
   ]
  },
  {
   "cell_type": "code",
   "execution_count": null,
   "id": "9b88e662-aee5-421c-a178-d7e23bd97628",
   "metadata": {},
   "outputs": [],
   "source": [
    "# val_df = pd.concat([\n",
    "#             train_df[train_df.condition == \"LUNG_CANCER\"].sample(frac=0.1, random_state=DatasetConfig.SEED_VALUE),\n",
    "#             train_df[train_df.condition == \"LYMPHOMA\"].sample(frac=0.1, random_state=DatasetConfig.SEED_VALUE),\n",
    "#             train_df[train_df.condition == \"MELANOMA\"].sample(frac=0.1, random_state=DatasetConfig.SEED_VALUE)\n",
    "#         ]).sample(frac=1, random_state=DatasetConfig.SEED_VALUE)\n",
    "# val_df"
   ]
  },
  {
   "cell_type": "code",
   "execution_count": null,
   "id": "ff7bd705-8d13-4b6a-bec6-f1d3b87ab5eb",
   "metadata": {},
   "outputs": [],
   "source": [
    "# train_df = train_df.drop(val_df.index, inplace=False)\n",
    "# train_df"
   ]
  },
  {
   "cell_type": "code",
   "execution_count": null,
   "id": "07dcab3e-8bc1-4be9-ad23-fd1b090b79b9",
   "metadata": {},
   "outputs": [],
   "source": [
    "train_df.condition.value_counts()"
   ]
  },
  {
   "cell_type": "code",
   "execution_count": null,
   "id": "095110e3-f723-40ef-b9f0-0017e44603f1",
   "metadata": {},
   "outputs": [],
   "source": [
    "# val_df.diagnosis.value_counts()"
   ]
  },
  {
   "cell_type": "code",
   "execution_count": null,
   "id": "8d57b598-4324-47d8-abc7-250a745fb283",
   "metadata": {},
   "outputs": [],
   "source": [
    "test_df.condition.value_counts()"
   ]
  },
  {
   "cell_type": "code",
   "execution_count": null,
   "id": "c3b0260e-1fe5-4d3b-897f-29b0e599d207",
   "metadata": {},
   "outputs": [],
   "source": [
    "train_df.subset = \"Train\"\n",
    "# val_df.subset = \"Valid\"\n",
    "test_df.subset = \"Test\""
   ]
  },
  {
   "cell_type": "code",
   "execution_count": null,
   "id": "d459c197-44ec-4f9b-ab42-1973fa0f0bd1",
   "metadata": {},
   "outputs": [],
   "source": [
    "# full_data = pd.concat([train_df, val_df, test_df]).sample(frac=1,random_state=DatasetConfig.SEED_VALUE)\n",
    "full_data = pd.concat([train_df, test_df]).sample(frac=1,random_state=DatasetConfig.SEED_VALUE)\n",
    "full_data"
   ]
  },
  {
   "cell_type": "code",
   "execution_count": null,
   "id": "ff04556d-2b12-4897-829f-d40dab710de5",
   "metadata": {},
   "outputs": [],
   "source": [
    "from tqdm import tqdm"
   ]
  },
  {
   "cell_type": "code",
   "execution_count": null,
   "id": "649d6005-01b9-40c3-b386-3defb9e1f694",
   "metadata": {},
   "outputs": [],
   "source": [
    "for index, row in tqdm(full_data.iterrows(), total=len(full_data)):\n",
    "    pre_process_and_export_record(row)\n",
    "    pre_process_and_export_record(row, True)"
   ]
  },
  {
   "cell_type": "code",
   "execution_count": null,
   "id": "4ae1d68f-3db4-4474-bed4-ff3105b08722",
   "metadata": {},
   "outputs": [],
   "source": []
  }
 ],
 "metadata": {
  "kernelspec": {
   "display_name": "Python 3 (ipykernel)",
   "language": "python",
   "name": "python3"
  },
  "language_info": {
   "codemirror_mode": {
    "name": "ipython",
    "version": 3
   },
   "file_extension": ".py",
   "mimetype": "text/x-python",
   "name": "python",
   "nbconvert_exporter": "python",
   "pygments_lexer": "ipython3",
   "version": "3.11.9"
  }
 },
 "nbformat": 4,
 "nbformat_minor": 5
}
