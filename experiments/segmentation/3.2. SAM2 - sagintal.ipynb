{
 "cells": [
  {
   "cell_type": "code",
   "execution_count": 1,
   "id": "d03d7106-bbc1-450d-a137-9614d699afb5",
   "metadata": {},
   "outputs": [
    {
     "name": "stdout",
     "output_type": "stream",
     "text": [
      "--2024-10-08 03:19:06--  https://dl.fbaipublicfiles.com/segment_anything_2/072824/sam2_hiera_large.pt\n",
      "Resolving dl.fbaipublicfiles.com (dl.fbaipublicfiles.com)... 52.84.83.26, 52.84.83.21, 52.84.83.109, ...\n",
      "Connecting to dl.fbaipublicfiles.com (dl.fbaipublicfiles.com)|52.84.83.26|:443... connected.\n",
      "HTTP request sent, awaiting response... 200 OK\n",
      "Length: 897952466 (856M) [application/vnd.snesdev-page-table]\n",
      "Saving to: ‘sam2_hiera_large.pt’\n",
      "\n",
      "sam2_hiera_large.pt 100%[===================>] 856.35M  73.9MB/s    in 11s     \n",
      "\n",
      "2024-10-08 03:19:17 (77.1 MB/s) - ‘sam2_hiera_large.pt’ saved [897952466/897952466]\n",
      "\n"
     ]
    }
   ],
   "source": [
    "!wget -O sam2_hiera_large.pt \"https://dl.fbaipublicfiles.com/segment_anything_2/072824/sam2_hiera_large.pt\""
   ]
  },
  {
   "cell_type": "code",
   "execution_count": 2,
   "id": "1c236f75-6aff-478f-a036-bb64c49c18cd",
   "metadata": {},
   "outputs": [
    {
     "name": "stdout",
     "output_type": "stream",
     "text": [
      "Looking in indexes: https://pypi.org/simple, https://pypi.ngc.nvidia.com\n",
      "Collecting git+https://github.com/facebookresearch/sam2.git\n",
      "  Cloning https://github.com/facebookresearch/sam2.git to /tmp/pip-req-build-3i_zwcbn\n",
      "  Running command git clone --filter=blob:none --quiet https://github.com/facebookresearch/sam2.git /tmp/pip-req-build-3i_zwcbn\n",
      "  Resolved https://github.com/facebookresearch/sam2.git to commit 29267c8e3965bb7744a436ab7db555718d20391a\n",
      "  Installing build dependencies ... \u001b[?25ldone\n",
      "\u001b[?25h  Getting requirements to build wheel ... \u001b[?25ldone\n",
      "\u001b[?25h  Preparing metadata (pyproject.toml) ... \u001b[?25ldone\n",
      "\u001b[?25hCollecting torch>=2.3.1 (from SAM-2==1.0)\n",
      "  Downloading torch-2.4.1-cp311-cp311-manylinux1_x86_64.whl.metadata (26 kB)\n",
      "Collecting torchvision>=0.18.1 (from SAM-2==1.0)\n",
      "  Downloading torchvision-0.19.1-cp311-cp311-manylinux1_x86_64.whl.metadata (6.0 kB)\n",
      "Requirement already satisfied: numpy>=1.24.4 in /opt/conda/lib/python3.11/site-packages (from SAM-2==1.0) (1.26.4)\n",
      "Requirement already satisfied: tqdm>=4.66.1 in /opt/conda/lib/python3.11/site-packages (from SAM-2==1.0) (4.66.4)\n",
      "Collecting hydra-core>=1.3.2 (from SAM-2==1.0)\n",
      "  Downloading hydra_core-1.3.2-py3-none-any.whl.metadata (5.5 kB)\n",
      "Collecting iopath>=0.1.10 (from SAM-2==1.0)\n",
      "  Downloading iopath-0.1.10.tar.gz (42 kB)\n",
      "\u001b[2K     \u001b[90m━━━━━━━━━━━━━━━━━━━━━━━━━━━━━━━━━━━━━━━━\u001b[0m \u001b[32m42.2/42.2 kB\u001b[0m \u001b[31m3.2 MB/s\u001b[0m eta \u001b[36m0:00:00\u001b[0m\n",
      "\u001b[?25h  Preparing metadata (setup.py) ... \u001b[?25ldone\n",
      "\u001b[?25hRequirement already satisfied: pillow>=9.4.0 in /opt/conda/lib/python3.11/site-packages (from SAM-2==1.0) (10.3.0)\n",
      "Collecting omegaconf<2.4,>=2.2 (from hydra-core>=1.3.2->SAM-2==1.0)\n",
      "  Downloading omegaconf-2.3.0-py3-none-any.whl.metadata (3.9 kB)\n",
      "Collecting antlr4-python3-runtime==4.9.* (from hydra-core>=1.3.2->SAM-2==1.0)\n",
      "  Downloading antlr4-python3-runtime-4.9.3.tar.gz (117 kB)\n",
      "\u001b[2K     \u001b[90m━━━━━━━━━━━━━━━━━━━━━━━━━━━━━━━━━━━━━━━\u001b[0m \u001b[32m117.0/117.0 kB\u001b[0m \u001b[31m2.3 MB/s\u001b[0m eta \u001b[36m0:00:00\u001b[0ma \u001b[36m0:00:01\u001b[0m\n",
      "\u001b[?25h  Preparing metadata (setup.py) ... \u001b[?25ldone\n",
      "\u001b[?25hRequirement already satisfied: packaging in /opt/conda/lib/python3.11/site-packages (from hydra-core>=1.3.2->SAM-2==1.0) (24.1)\n",
      "Requirement already satisfied: typing_extensions in /opt/conda/lib/python3.11/site-packages (from iopath>=0.1.10->SAM-2==1.0) (4.12.2)\n",
      "Collecting portalocker (from iopath>=0.1.10->SAM-2==1.0)\n",
      "  Downloading portalocker-2.10.1-py3-none-any.whl.metadata (8.5 kB)\n",
      "Requirement already satisfied: filelock in /opt/conda/lib/python3.11/site-packages (from torch>=2.3.1->SAM-2==1.0) (3.15.1)\n",
      "Requirement already satisfied: sympy in /opt/conda/lib/python3.11/site-packages (from torch>=2.3.1->SAM-2==1.0) (1.12.1)\n",
      "Requirement already satisfied: networkx in /opt/conda/lib/python3.11/site-packages (from torch>=2.3.1->SAM-2==1.0) (3.3)\n",
      "Requirement already satisfied: jinja2 in /opt/conda/lib/python3.11/site-packages (from torch>=2.3.1->SAM-2==1.0) (3.1.4)\n",
      "Requirement already satisfied: fsspec in /opt/conda/lib/python3.11/site-packages (from torch>=2.3.1->SAM-2==1.0) (2024.6.0)\n",
      "Requirement already satisfied: nvidia-cuda-nvrtc-cu12==12.1.105 in /opt/conda/lib/python3.11/site-packages (from torch>=2.3.1->SAM-2==1.0) (12.1.105)\n",
      "Requirement already satisfied: nvidia-cuda-runtime-cu12==12.1.105 in /opt/conda/lib/python3.11/site-packages (from torch>=2.3.1->SAM-2==1.0) (12.1.105)\n",
      "Requirement already satisfied: nvidia-cuda-cupti-cu12==12.1.105 in /opt/conda/lib/python3.11/site-packages (from torch>=2.3.1->SAM-2==1.0) (12.1.105)\n",
      "Collecting nvidia-cudnn-cu12==9.1.0.70 (from torch>=2.3.1->SAM-2==1.0)\n",
      "  Downloading nvidia_cudnn_cu12-9.1.0.70-py3-none-manylinux2014_x86_64.whl.metadata (1.6 kB)\n",
      "Requirement already satisfied: nvidia-cublas-cu12==12.1.3.1 in /opt/conda/lib/python3.11/site-packages (from torch>=2.3.1->SAM-2==1.0) (12.1.3.1)\n",
      "Requirement already satisfied: nvidia-cufft-cu12==11.0.2.54 in /opt/conda/lib/python3.11/site-packages (from torch>=2.3.1->SAM-2==1.0) (11.0.2.54)\n",
      "Requirement already satisfied: nvidia-curand-cu12==10.3.2.106 in /opt/conda/lib/python3.11/site-packages (from torch>=2.3.1->SAM-2==1.0) (10.3.2.106)\n",
      "Requirement already satisfied: nvidia-cusolver-cu12==11.4.5.107 in /opt/conda/lib/python3.11/site-packages (from torch>=2.3.1->SAM-2==1.0) (11.4.5.107)\n",
      "Requirement already satisfied: nvidia-cusparse-cu12==12.1.0.106 in /opt/conda/lib/python3.11/site-packages (from torch>=2.3.1->SAM-2==1.0) (12.1.0.106)\n",
      "Collecting nvidia-nccl-cu12==2.20.5 (from torch>=2.3.1->SAM-2==1.0)\n",
      "  Downloading nvidia_nccl_cu12-2.20.5-py3-none-manylinux2014_x86_64.whl.metadata (1.8 kB)\n",
      "Requirement already satisfied: nvidia-nvtx-cu12==12.1.105 in /opt/conda/lib/python3.11/site-packages (from torch>=2.3.1->SAM-2==1.0) (12.1.105)\n",
      "Collecting triton==3.0.0 (from torch>=2.3.1->SAM-2==1.0)\n",
      "  Downloading triton-3.0.0-1-cp311-cp311-manylinux2014_x86_64.manylinux_2_17_x86_64.whl.metadata (1.3 kB)\n",
      "Requirement already satisfied: nvidia-nvjitlink-cu12 in /opt/conda/lib/python3.11/site-packages (from nvidia-cusolver-cu12==11.4.5.107->torch>=2.3.1->SAM-2==1.0) (12.5.40)\n",
      "Requirement already satisfied: PyYAML>=5.1.0 in /opt/conda/lib/python3.11/site-packages (from omegaconf<2.4,>=2.2->hydra-core>=1.3.2->SAM-2==1.0) (6.0.1)\n",
      "Requirement already satisfied: MarkupSafe>=2.0 in /opt/conda/lib/python3.11/site-packages (from jinja2->torch>=2.3.1->SAM-2==1.0) (2.1.5)\n",
      "Requirement already satisfied: mpmath<1.4.0,>=1.1.0 in /opt/conda/lib/python3.11/site-packages (from sympy->torch>=2.3.1->SAM-2==1.0) (1.3.0)\n",
      "Downloading hydra_core-1.3.2-py3-none-any.whl (154 kB)\n",
      "\u001b[2K   \u001b[90m━━━━━━━━━━━━━━━━━━━━━━━━━━━━━━━━━━━━━━━━\u001b[0m \u001b[32m154.5/154.5 kB\u001b[0m \u001b[31m10.3 MB/s\u001b[0m eta \u001b[36m0:00:00\u001b[0m\n",
      "\u001b[?25hDownloading torch-2.4.1-cp311-cp311-manylinux1_x86_64.whl (797.1 MB)\n",
      "\u001b[2K   \u001b[90m━━━━━━━━━━━━━━━━━━━━━━━━━━━━━━━━━━━━━━━━\u001b[0m \u001b[32m797.1/797.1 MB\u001b[0m \u001b[31m71.1 MB/s\u001b[0m eta \u001b[36m0:00:00\u001b[0m00:01\u001b[0m00:01\u001b[0m\n",
      "\u001b[?25hDownloading nvidia_cudnn_cu12-9.1.0.70-py3-none-manylinux2014_x86_64.whl (664.8 MB)\n",
      "\u001b[2K   \u001b[90m━━━━━━━━━━━━━━━━━━━━━━━━━━━━━━━━━━━━━━━━\u001b[0m \u001b[32m664.8/664.8 MB\u001b[0m \u001b[31m69.5 MB/s\u001b[0m eta \u001b[36m0:00:00\u001b[0m00:01\u001b[0m00:01\u001b[0m\n",
      "\u001b[?25hDownloading nvidia_nccl_cu12-2.20.5-py3-none-manylinux2014_x86_64.whl (176.2 MB)\n",
      "\u001b[2K   \u001b[90m━━━━━━━━━━━━━━━━━━━━━━━━━━━━━━━━━━━━━━━━\u001b[0m \u001b[32m176.2/176.2 MB\u001b[0m \u001b[31m69.7 MB/s\u001b[0m eta \u001b[36m0:00:00\u001b[0m00:01\u001b[0m00:01\u001b[0m\n",
      "\u001b[?25hDownloading triton-3.0.0-1-cp311-cp311-manylinux2014_x86_64.manylinux_2_17_x86_64.whl (209.4 MB)\n",
      "\u001b[2K   \u001b[90m━━━━━━━━━━━━━━━━━━━━━━━━━━━━━━━━━━━━━━━━\u001b[0m \u001b[32m209.4/209.4 MB\u001b[0m \u001b[31m70.3 MB/s\u001b[0m eta \u001b[36m0:00:00\u001b[0m00:01\u001b[0m00:01\u001b[0m\n",
      "\u001b[?25hDownloading torchvision-0.19.1-cp311-cp311-manylinux1_x86_64.whl (7.0 MB)\n",
      "\u001b[2K   \u001b[90m━━━━━━━━━━━━━━━━━━━━━━━━━━━━━━━━━━━━━━━━\u001b[0m \u001b[32m7.0/7.0 MB\u001b[0m \u001b[31m73.3 MB/s\u001b[0m eta \u001b[36m0:00:00\u001b[0ma \u001b[36m0:00:01\u001b[0mm\n",
      "\u001b[?25hDownloading omegaconf-2.3.0-py3-none-any.whl (79 kB)\n",
      "\u001b[2K   \u001b[90m━━━━━━━━━━━━━━━━━━━━━━━━━━━━━━━━━━━━━━━━\u001b[0m \u001b[32m79.5/79.5 kB\u001b[0m \u001b[31m240.1 MB/s\u001b[0m eta \u001b[36m0:00:00\u001b[0m\n",
      "\u001b[?25hDownloading portalocker-2.10.1-py3-none-any.whl (18 kB)\n",
      "Building wheels for collected packages: SAM-2, antlr4-python3-runtime, iopath\n",
      "  Building wheel for SAM-2 (pyproject.toml) ... \u001b[?25ldone\n",
      "\u001b[?25h  Created wheel for SAM-2: filename=SAM_2-1.0-cp311-cp311-linux_x86_64.whl size=169458 sha256=eb727a629255f2ec968ef1b506c2f320980e5db16fad70e2ff53026d3068b272\n",
      "  Stored in directory: /tmp/pip-ephem-wheel-cache-xqbuse4u/wheels/d8/63/41/d37b316a85599f58a42be0210805ecf8594b9c06082028716e\n",
      "  Building wheel for antlr4-python3-runtime (setup.py) ... \u001b[?25ldone\n",
      "\u001b[?25h  Created wheel for antlr4-python3-runtime: filename=antlr4_python3_runtime-4.9.3-py3-none-any.whl size=144554 sha256=9628a84b93cb4dc31a8dc81e88bded410814b19dc9d6fbb347b1ec50194f9e6c\n",
      "  Stored in directory: /tmp/pip-ephem-wheel-cache-xqbuse4u/wheels/1a/97/32/461f837398029ad76911109f07047fde1d7b661a147c7c56d1\n",
      "  Building wheel for iopath (setup.py) ... \u001b[?25ldone\n",
      "\u001b[?25h  Created wheel for iopath: filename=iopath-0.1.10-py3-none-any.whl size=31532 sha256=9cff2d52aa3bf20e193a386c5e9addfa7c372e73f538c62e9a389de1271ee5b2\n",
      "  Stored in directory: /tmp/pip-ephem-wheel-cache-xqbuse4u/wheels/ba/5e/16/6117f8fe7e9c0c161a795e10d94645ebcf301ccbd01f66d8ec\n",
      "Successfully built SAM-2 antlr4-python3-runtime iopath\n",
      "Installing collected packages: antlr4-python3-runtime, triton, portalocker, omegaconf, nvidia-nccl-cu12, nvidia-cudnn-cu12, iopath, hydra-core, torch, torchvision, SAM-2\n",
      "  Attempting uninstall: triton\n",
      "    Found existing installation: triton 2.2.0\n",
      "    Uninstalling triton-2.2.0:\n",
      "      Successfully uninstalled triton-2.2.0\n",
      "  Attempting uninstall: nvidia-nccl-cu12\n",
      "    Found existing installation: nvidia-nccl-cu12 2.19.3\n",
      "    Uninstalling nvidia-nccl-cu12-2.19.3:\n",
      "      Successfully uninstalled nvidia-nccl-cu12-2.19.3\n",
      "  Attempting uninstall: nvidia-cudnn-cu12\n",
      "    Found existing installation: nvidia-cudnn-cu12 8.9.2.26\n",
      "    Uninstalling nvidia-cudnn-cu12-8.9.2.26:\n",
      "      Successfully uninstalled nvidia-cudnn-cu12-8.9.2.26\n",
      "  Attempting uninstall: torch\n",
      "    Found existing installation: torch 2.2.2+cu121\n",
      "    Uninstalling torch-2.2.2+cu121:\n",
      "      Successfully uninstalled torch-2.2.2+cu121\n",
      "  Attempting uninstall: torchvision\n",
      "    Found existing installation: torchvision 0.17.2+cu121\n",
      "    Uninstalling torchvision-0.17.2+cu121:\n",
      "      Successfully uninstalled torchvision-0.17.2+cu121\n",
      "\u001b[31mERROR: pip's dependency resolver does not currently take into account all the packages that are installed. This behaviour is the source of the following dependency conflicts.\n",
      "torchaudio 2.2.2+cu121 requires torch==2.2.2, but you have torch 2.4.1 which is incompatible.\u001b[0m\u001b[31m\n",
      "\u001b[0mSuccessfully installed SAM-2-1.0 antlr4-python3-runtime-4.9.3 hydra-core-1.3.2 iopath-0.1.10 nvidia-cudnn-cu12-9.1.0.70 nvidia-nccl-cu12-2.20.5 omegaconf-2.3.0 portalocker-2.10.1 torch-2.4.1 torchvision-0.19.1 triton-3.0.0\n"
     ]
    }
   ],
   "source": [
    "!pip install git+https://github.com/facebookresearch/sam2.git"
   ]
  },
  {
   "cell_type": "code",
   "execution_count": 3,
   "id": "832c5a35-e281-4fd4-8410-4b71b58dc44f",
   "metadata": {},
   "outputs": [],
   "source": [
    "import os\n",
    "import pandas as pd\n",
    "import cv2\n",
    "import torch\n",
    "import torch.nn.utils\n",
    "import numpy as np\n",
    "import matplotlib.pyplot as plt\n",
    "import matplotlib.colors as mcolors\n",
    "from sklearn.model_selection import train_test_split\n",
    "from sam2.build_sam import build_sam2\n",
    "from sam2.sam2_image_predictor import SAM2ImagePredictor\n",
    "from dataclasses import dataclass\n"
   ]
  },
  {
   "cell_type": "code",
   "execution_count": 5,
   "id": "3b039f11-47d6-4b96-b1c5-2ec8374c1660",
   "metadata": {},
   "outputs": [],
   "source": [
    "@dataclass(frozen=True)\n",
    "class DatasetConfig:\n",
    "    SEED_VALUE:  int = 41\n",
    "    CUT_PLANE:   str = \"sagital\"\n",
    "\n",
    "    DATA_ROOT_TARGET:  str = f'/home/jovyan/data/segmentation/autopet-min-{CUT_PLANE}' \n",
    "    DATA_ROOT_TRAIN:  str = DATA_ROOT_TARGET + '/Train' \n",
    "    DATA_ROOT_VALID:  str = DATA_ROOT_TARGET + '/Valid'\n",
    "    DATA_ROOT_TEST:   str = DATA_ROOT_TARGET + '/Test'\n",
    "    DATA_TEST_GT:     str = DATA_ROOT_TARGET + '/Test.csv'"
   ]
  },
  {
   "cell_type": "code",
   "execution_count": 6,
   "id": "3b296528-4c9f-4e03-beb4-78af85c2432f",
   "metadata": {},
   "outputs": [],
   "source": [
    "@dataclass(frozen=True)\n",
    "class ImageResizeConfig:\n",
    "    height: int = 1024\n",
    "    width: int = 1024"
   ]
  },
  {
   "cell_type": "code",
   "execution_count": 8,
   "id": "a6bbd82b-331c-4e04-9907-dea8f3e4b56b",
   "metadata": {},
   "outputs": [],
   "source": [
    "# Prepare the training data list\n",
    "train_data = []\n",
    "\n",
    "images_file_names = os.listdir(DatasetConfig.DATA_ROOT_TRAIN+\"/PET\")\n",
    "\n",
    "images_dir = f'{DatasetConfig.DATA_ROOT_TRAIN}/PET/'\n",
    "masks_dir = f'{DatasetConfig.DATA_ROOT_TRAIN}/SEG/'\n",
    "\n",
    "for img_name in images_file_names:\n",
    "   # Append image and corresponding mask paths\n",
    "   train_data.append({\n",
    "       \"image\": os.path.join(images_dir, img_name),\n",
    "       \"annotation\": os.path.join(masks_dir, img_name)\n",
    "   })\n",
    "\n",
    "images_dir = f'{DatasetConfig.DATA_ROOT_TEST}/PET/'\n",
    "masks_dir = f'{DatasetConfig.DATA_ROOT_TEST}/SEG/'\n",
    "\n",
    "images_file_names = os.listdir(DatasetConfig.DATA_ROOT_TEST+\"/PET\")\n",
    "# Prepare the testing data list (if needed for inference or evaluation later)\n",
    "test_data = []\n",
    "for img_name in images_file_names:\n",
    "   # Append image and corresponding mask paths\n",
    "   test_data.append({\n",
    "       \"image\": os.path.join(images_dir, img_name),\n",
    "       \"annotation\": os.path.join(masks_dir, img_name)\n",
    "   })"
   ]
  },
  {
   "cell_type": "code",
   "execution_count": 9,
   "id": "0f55906b-5d46-4b4d-a983-88e8f5d9a9b1",
   "metadata": {},
   "outputs": [
    {
     "data": {
      "text/plain": [
       "{'image': '/home/jovyan/data/segmentation/autopet-min-sagital/Train/PET/246.png',\n",
       " 'annotation': '/home/jovyan/data/segmentation/autopet-min-sagital/Train/SEG/246.png'}"
      ]
     },
     "execution_count": 9,
     "metadata": {},
     "output_type": "execute_result"
    }
   ],
   "source": [
    "train_data[0]"
   ]
  },
  {
   "cell_type": "code",
   "execution_count": 10,
   "id": "64ff8e43-73db-4761-bca1-ad452fd1d911",
   "metadata": {},
   "outputs": [
    {
     "data": {
      "text/plain": [
       "{'image': '/home/jovyan/data/segmentation/autopet-min-sagital/Test/PET/393.png',\n",
       " 'annotation': '/home/jovyan/data/segmentation/autopet-min-sagital/Test/SEG/393.png'}"
      ]
     },
     "execution_count": 10,
     "metadata": {},
     "output_type": "execute_result"
    }
   ],
   "source": [
    "test_data[0]"
   ]
  },
  {
   "cell_type": "code",
   "execution_count": 29,
   "id": "5a7de868-c92b-48e1-b251-4033d64d1228",
   "metadata": {},
   "outputs": [],
   "source": [
    "import random"
   ]
  },
  {
   "cell_type": "code",
   "execution_count": 30,
   "id": "49be0f6c-6cde-487a-9112-7da16d3f6a0e",
   "metadata": {},
   "outputs": [
    {
     "data": {
      "image/png": "[encoded data removed]",
      "text/plain": [
       "<Figure size 1500x500 with 3 Axes>"
      ]
     },
     "metadata": {},
     "output_type": "display_data"
    }
   ],
   "source": [
    "def read_batch(data, visualize_data=False):\n",
    "    # Select a random entry\n",
    "    ent = data[np.random.randint(len(data))]\n",
    "    \n",
    "    # Get full paths\n",
    "    Img = cv2.imread(ent[\"image\"])[..., ::-1]  # Convert BGR to RGB\n",
    "    ann_map = cv2.imread(ent[\"annotation\"], cv2.IMREAD_GRAYSCALE)  # Read annotation as grayscale\n",
    "    \n",
    "    if Img is None or ann_map is None:\n",
    "       print(f\"Error: Could not read image or mask from path {ent['image']} or {ent['annotation']}\")\n",
    "       return None, None, None, 0\n",
    "    \n",
    "    # Resize image and mask\n",
    "    r = np.min([1024 / Img.shape[1], 1024 / Img.shape[0]])  # Scaling factor\n",
    "    Img = cv2.resize(Img, (int(Img.shape[1] * r), int(Img.shape[0] * r)))\n",
    "    ann_map = cv2.resize(ann_map, (int(ann_map.shape[1] * r), int(ann_map.shape[0] * r)), interpolation=cv2.INTER_NEAREST)\n",
    "    \n",
    "    \n",
    "    ### Continuation of read_batch() ###\n",
    "    \n",
    "    # Initialize a single binary mask\n",
    "    binary_mask = np.zeros_like(ann_map, dtype=np.uint8)\n",
    "    points = []\n",
    "    \n",
    "    # Get binary masks and combine them into a single mask\n",
    "    inds = np.unique(ann_map)[1:]  # Skip the background (index 0)\n",
    "    for ind in inds:\n",
    "       mask = (ann_map == ind).astype(np.uint8)  # Create binary mask for each unique index\n",
    "       binary_mask = np.maximum(binary_mask, mask)  # Combine with the existing binary mask\n",
    "    \n",
    "    # Erode the combined binary mask to avoid boundary points\n",
    "    eroded_mask = cv2.erode(binary_mask, np.ones((5, 5), np.uint8), iterations=1)\n",
    "    \n",
    "    # Get all coordinates inside the eroded mask and choose a random point\n",
    "    coords = np.argwhere(eroded_mask > 0)\n",
    "    if len(coords) > 0:\n",
    "       for _ in inds:  # Select as many points as there are unique labels\n",
    "           yx = np.array(coords[np.random.randint(len(coords))])\n",
    "           points.append([yx[1], yx[0]])\n",
    "    \n",
    "    points = np.array(points)\n",
    "\n",
    "    if visualize_data:\n",
    "        # Plotting the images and points\n",
    "        plt.figure(figsize=(15, 5))\n",
    "    \n",
    "        # Original Image\n",
    "        plt.subplot(1, 3, 1)\n",
    "        plt.title('Original Image')\n",
    "        plt.imshow(Img)\n",
    "        plt.axis('off')\n",
    "    \n",
    "        # Segmentation Mask (binary_mask)\n",
    "        plt.subplot(1, 3, 2)\n",
    "        plt.title('Binarized Mask')\n",
    "        plt.imshow(binary_mask, cmap='gray')\n",
    "        plt.axis('off')\n",
    "    \n",
    "        # Mask with Points in Different Colors\n",
    "        plt.subplot(1, 3, 3)\n",
    "        plt.title('Binarized Mask with Points')\n",
    "        plt.imshow(binary_mask, cmap='gray')\n",
    "    \n",
    "        # Plot points in different colors\n",
    "        colors = list(mcolors.TABLEAU_COLORS.values())\n",
    "        for i, point in enumerate(points):\n",
    "            plt.scatter(point[0], point[1], c=colors[i % len(colors)], s=100, label=f'Point {i+1}')  # Corrected to plot y, x order\n",
    "    \n",
    "        # plt.legend()\n",
    "        plt.axis('off')\n",
    "    \n",
    "        plt.tight_layout()\n",
    "        plt.show()\n",
    "    \n",
    "    binary_mask = np.expand_dims(binary_mask, axis=-1)  # Now shape is (1024, 1024, 1)\n",
    "    binary_mask = binary_mask.transpose((2, 0, 1))\n",
    "    points = np.expand_dims(points, axis=1)\n",
    "    \n",
    "    # Return the image, binarized mask, points, and number of masks\n",
    "    return Img, binary_mask, points, len(inds)\n",
    "    \n",
    "# Visualize the data\n",
    "Img1, masks1, points1, num_masks = read_batch(train_data, visualize_data=True)"
   ]
  },
  {
   "cell_type": "code",
   "execution_count": 24,
   "id": "2c14eabb-3740-49b7-869e-44fda45648c6",
   "metadata": {},
   "outputs": [],
   "source": [
    "sam2_checkpoint = \"sam2_hiera_large.pt\"  # @param [\"sam2_hiera_tiny.pt\", \"sam2_hiera_small.pt\", \"sam2_hiera_base_plus.pt\", \"sam2_hiera_large.pt\"]\n",
    "model_cfg = \"sam2_hiera_l.yaml\" # @param [\"sam2_hiera_t.yaml\", \"sam2_hiera_s.yaml\", \"sam2_hiera_b+.yaml\", \"sam2_hiera_l.yaml\"]\n",
    "\n",
    "sam2_model = build_sam2(model_cfg, sam2_checkpoint, device=\"cuda\")\n",
    "predictor = SAM2ImagePredictor(sam2_model)"
   ]
  },
  {
   "cell_type": "code",
   "execution_count": 25,
   "id": "7e1d5efb-ad26-4b31-9176-b5cc8d038cc2",
   "metadata": {},
   "outputs": [],
   "source": [
    "# Train mask decoder.\n",
    "predictor.model.sam_mask_decoder.train(True)\n",
    "\n",
    "# Train prompt encoder.\n",
    "predictor.model.sam_prompt_encoder.train(True)\n",
    "\n",
    "# Configure optimizer.\n",
    "optimizer=torch.optim.AdamW(params=predictor.model.parameters(),lr=0.0001,weight_decay=1e-4) #1e-5, weight_decay = 4e-5\n",
    "\n",
    "# Mix precision.\n",
    "scaler = torch.cuda.amp.GradScaler()\n",
    "\n",
    "# No. of steps to train the model.\n",
    "NO_OF_STEPS = 3000 # @param \n",
    "\n",
    "# Fine-tuned model name.\n",
    "FINE_TUNED_MODEL_NAME = \"fine_tuned_sam2\"\n"
   ]
  },
  {
   "cell_type": "code",
   "execution_count": 26,
   "id": "a659bb6e-a943-4eae-9890-fdf60ac71b2e",
   "metadata": {},
   "outputs": [
    {
     "name": "stderr",
     "output_type": "stream",
     "text": [
      "/opt/conda/lib/python3.11/site-packages/torch/optim/lr_scheduler.py:216: UserWarning: Detected call of `lr_scheduler.step()` before `optimizer.step()`. In PyTorch 1.1.0 and later, you should call them in the opposite order: `optimizer.step()` before `lr_scheduler.step()`.  Failure to do this will result in PyTorch skipping the first value of the learning rate schedule. See more details at https://pytorch.org/docs/stable/optim.html#how-to-adjust-learning-rate\n",
      "  warnings.warn(\n"
     ]
    },
    {
     "name": "stdout",
     "output_type": "stream",
     "text": [
      "Step 100:\t Accuracy (IoU) =  0.3389863100325472\n",
      "Step 200:\t Accuracy (IoU) =  0.45817469166513547\n",
      "Step 300:\t Accuracy (IoU) =  0.5484066593388836\n",
      "Step 400:\t Accuracy (IoU) =  0.5655509245384457\n",
      "Step 500:\t Accuracy (IoU) =  0.5642303567121649\n",
      "Step 600:\t Accuracy (IoU) =  0.5832177514611118\n",
      "Step 700:\t Accuracy (IoU) =  0.6014174208136447\n",
      "Step 800:\t Accuracy (IoU) =  0.6146700667737455\n",
      "Step 900:\t Accuracy (IoU) =  0.6193574164717138\n",
      "Step 1000:\t Accuracy (IoU) =  0.6166570405200484\n",
      "Step 1100:\t Accuracy (IoU) =  0.6136903117919306\n",
      "Step 1200:\t Accuracy (IoU) =  0.594963487676384\n",
      "Step 1300:\t Accuracy (IoU) =  0.625625196544484\n",
      "Step 1400:\t Accuracy (IoU) =  0.6499035297706354\n",
      "Step 1500:\t Accuracy (IoU) =  0.6391980619102531\n",
      "Step 1600:\t Accuracy (IoU) =  0.6118318153454014\n",
      "Step 1700:\t Accuracy (IoU) =  0.6069099548107457\n",
      "Step 1800:\t Accuracy (IoU) =  0.5957258594363364\n",
      "Step 1900:\t Accuracy (IoU) =  0.5672188468515593\n",
      "Step 2000:\t Accuracy (IoU) =  0.5867764744023352\n",
      "Step 2100:\t Accuracy (IoU) =  0.6033200571813422\n",
      "Step 2200:\t Accuracy (IoU) =  0.590342899092347\n",
      "Step 2300:\t Accuracy (IoU) =  0.5951201695558711\n",
      "Step 2400:\t Accuracy (IoU) =  0.6116302117011099\n",
      "Step 2500:\t Accuracy (IoU) =  0.6108855877107727\n",
      "Step 2600:\t Accuracy (IoU) =  0.6066380720613096\n",
      "Step 2700:\t Accuracy (IoU) =  0.6111645530586007\n",
      "Step 2800:\t Accuracy (IoU) =  0.5933935507122386\n",
      "Step 2900:\t Accuracy (IoU) =  0.5845269176757343\n",
      "Step 3000:\t Accuracy (IoU) =  0.6005319758873953\n"
     ]
    }
   ],
   "source": [
    "# Initialize scheduler\n",
    "scheduler = torch.optim.lr_scheduler.StepLR(optimizer, step_size=500, gamma=0.2) # 500 , 250, gamma = 0.1\n",
    "accumulation_steps = 4  # Number of steps to accumulate gradients before updating\n",
    "\n",
    "for step in range(1, NO_OF_STEPS + 1):\n",
    "   with torch.cuda.amp.autocast():\n",
    "       image, mask, input_point, num_masks = read_batch(train_data, visualize_data=False)\n",
    "       if image is None or mask is None or num_masks == 0:\n",
    "           continue\n",
    "\n",
    "       input_label = np.ones((num_masks, 1))\n",
    "       if not isinstance(input_point, np.ndarray) or not isinstance(input_label, np.ndarray):\n",
    "           continue\n",
    "\n",
    "       if input_point.size == 0 or input_label.size == 0:\n",
    "           continue\n",
    "\n",
    "       predictor.set_image(image)\n",
    "       mask_input, unnorm_coords, labels, unnorm_box = predictor._prep_prompts(input_point, input_label, box=None, mask_logits=None, normalize_coords=True)\n",
    "       if unnorm_coords is None or labels is None or unnorm_coords.shape[0] == 0 or labels.shape[0] == 0:\n",
    "           continue\n",
    "\n",
    "       sparse_embeddings, dense_embeddings = predictor.model.sam_prompt_encoder(\n",
    "           points=(unnorm_coords, labels), boxes=None, masks=None,\n",
    "       )\n",
    "\n",
    "       batched_mode = unnorm_coords.shape[0] > 1\n",
    "       high_res_features = [feat_level[-1].unsqueeze(0) for feat_level in predictor._features[\"high_res_feats\"]]\n",
    "       low_res_masks, prd_scores, _, _ = predictor.model.sam_mask_decoder(\n",
    "           image_embeddings=predictor._features[\"image_embed\"][-1].unsqueeze(0),\n",
    "           image_pe=predictor.model.sam_prompt_encoder.get_dense_pe(),\n",
    "           sparse_prompt_embeddings=sparse_embeddings,\n",
    "           dense_prompt_embeddings=dense_embeddings,\n",
    "           multimask_output=True,\n",
    "           repeat_image=batched_mode,\n",
    "           high_res_features=high_res_features,\n",
    "       )\n",
    "       prd_masks = predictor._transforms.postprocess_masks(low_res_masks, predictor._orig_hw[-1])\n",
    "\n",
    "       gt_mask = torch.tensor(mask.astype(np.float32)).cuda()\n",
    "       prd_mask = torch.sigmoid(prd_masks[:, 0])\n",
    "       seg_loss = (-gt_mask * torch.log(prd_mask + 0.000001) - (1 - gt_mask) * torch.log((1 - prd_mask) + 0.00001)).mean()\n",
    "\n",
    "       inter = (gt_mask * (prd_mask > 0.5)).sum(1).sum(1)\n",
    "       iou = inter / (gt_mask.sum(1).sum(1) + (prd_mask > 0.5).sum(1).sum(1) - inter)\n",
    "       score_loss = torch.abs(prd_scores[:, 0] - iou).mean()\n",
    "       loss = seg_loss + score_loss * 0.05\n",
    "\n",
    "       # Apply gradient accumulation\n",
    "       loss = loss / accumulation_steps\n",
    "       scaler.scale(loss).backward()\n",
    "\n",
    "       # Clip gradients\n",
    "       torch.nn.utils.clip_grad_norm_(predictor.model.parameters(), max_norm=1.0)\n",
    "\n",
    "       if step % accumulation_steps == 0:\n",
    "           scaler.step(optimizer)\n",
    "           scaler.update()\n",
    "           predictor.model.zero_grad()\n",
    "\n",
    "       # Update scheduler\n",
    "       scheduler.step()\n",
    "\n",
    "       if step % 500 == 0:\n",
    "           FINE_TUNED_MODEL = FINE_TUNED_MODEL_NAME + \"_\" + str(step) + \".torch\"\n",
    "           torch.save(predictor.model.state_dict(), FINE_TUNED_MODEL)\n",
    "\n",
    "       if step == 1:\n",
    "           mean_iou = 0\n",
    "\n",
    "       mean_iou = mean_iou * 0.99 + 0.01 * np.mean(iou.cpu().detach().numpy())\n",
    "\n",
    "       if step % 100 == 0:\n",
    "           print(\"Step \" + str(step) + \":\\t\", \"Accuracy (IoU) = \", mean_iou)\n"
   ]
  },
  {
   "cell_type": "code",
   "execution_count": 99,
   "id": "3630efca-cc0c-4031-b8e0-e1d513f1359a",
   "metadata": {},
   "outputs": [],
   "source": [
    "torch.save(predictor.model.state_dict(), \"./checkpoints/sam2_model_checkpoint.pth\")"
   ]
  },
  {
   "cell_type": "code",
   "execution_count": 27,
   "id": "dfc7e5e3-c2b0-4188-838b-f3e911374c98",
   "metadata": {},
   "outputs": [],
   "source": [
    "def read_image(image_path, mask_path):  # read and resize image and mask\n",
    "   img = cv2.imread(image_path)[..., ::-1]  # Convert BGR to RGB\n",
    "   mask = cv2.imread(mask_path, 0)\n",
    "   r = np.min([1024 / img.shape[1], 1024 / img.shape[0]])\n",
    "   img = cv2.resize(img, (int(img.shape[1] * r), int(img.shape[0] * r)))\n",
    "   mask = cv2.resize(mask, (int(mask.shape[1] * r), int(mask.shape[0] * r)), interpolation=cv2.INTER_NEAREST)\n",
    "   return img, mask\n",
    "\n",
    "def get_points(mask, num_points):  # Sample points inside the input mask\n",
    "   points = []\n",
    "   coords = np.argwhere(mask > 0)\n",
    "   for i in range(num_points):\n",
    "       yx = np.array(coords[np.random.randint(len(coords))])\n",
    "       points.append([[yx[1], yx[0]]])\n",
    "   return np.array(points)"
   ]
  },
  {
   "cell_type": "code",
   "execution_count": 158,
   "id": "18fe5556-c5d5-4e15-a4d8-6056a7031ca1",
   "metadata": {},
   "outputs": [
    {
     "data": {
      "image/png": "[encoded data removed]",
      "text/plain": [
       "<Figure size 1800x600 with 3 Axes>"
      ]
     },
     "metadata": {},
     "output_type": "display_data"
    }
   ],
   "source": [
    "# Randomly select a test image from the test_data\n",
    "selected_entry = random.choice(test_data)\n",
    "image_path = selected_entry['image']\n",
    "mask_path = selected_entry['annotation']\n",
    "\n",
    "# Load the selected image and mask\n",
    "image, mask = read_image(image_path, mask_path)\n",
    "\n",
    "# Generate random points for the input\n",
    "num_samples = 30  # Number of points per segment to sample\n",
    "input_points = get_points(mask, num_samples)\n",
    "\n",
    "# Load the fine-tuned model\n",
    "FINE_TUNED_MODEL_WEIGHTS = \"fine_tuned_sam2_1000.torch\"\n",
    "sam2_model = build_sam2(model_cfg, sam2_checkpoint, device=\"cuda\")\n",
    "\n",
    "# Build net and load weights\n",
    "predictor = SAM2ImagePredictor(sam2_model)\n",
    "predictor.model.load_state_dict(torch.load(FINE_TUNED_MODEL_WEIGHTS))\n",
    "\n",
    "# Perform inference and predict masks\n",
    "with torch.no_grad():\n",
    "   predictor.set_image(image)\n",
    "   masks, scores, logits = predictor.predict(\n",
    "       point_coords=input_points,\n",
    "       point_labels=np.ones([input_points.shape[0], 1])\n",
    "   )\n",
    "\n",
    "# Process the predicted masks and sort by scores\n",
    "np_masks = np.array(masks[:, 0])\n",
    "np_scores = scores[:, 0]\n",
    "sorted_masks = np_masks[np.argsort(np_scores)][::-1]\n",
    "\n",
    "# Initialize segmentation map and occupancy mask\n",
    "seg_map = np.zeros_like(sorted_masks[0], dtype=np.uint8)\n",
    "occupancy_mask = np.zeros_like(sorted_masks[0], dtype=bool)\n",
    "\n",
    "# Combine masks to create the final segmentation map\n",
    "for i in range(sorted_masks.shape[0]):\n",
    "   mask = sorted_masks[i]\n",
    "   if (mask * occupancy_mask).sum() / mask.sum() > 0.15:\n",
    "       continue\n",
    "\n",
    "   mask_bool = mask.astype(bool)\n",
    "   mask_bool[occupancy_mask] = False  # Set overlapping areas to False in the mask\n",
    "   seg_map[mask_bool] = i + 1  # Use boolean mask to index seg_map\n",
    "   occupancy_mask[mask_bool] = True  # Update occupancy_mask\n",
    "\n",
    "# Visualization: Show the original image, mask, and final segmentation side by side\n",
    "plt.figure(figsize=(18, 6))\n",
    "\n",
    "plt.subplot(1, 3, 1)\n",
    "plt.title('Test Image')\n",
    "plt.imshow(image)\n",
    "plt.axis('off')\n",
    "\n",
    "plt.subplot(1, 3, 2)\n",
    "plt.title('Original Mask')\n",
    "plt.imshow(mask, cmap='gray')\n",
    "plt.axis('off')\n",
    "\n",
    "plt.subplot(1, 3, 3)\n",
    "plt.title('Final Segmentation')\n",
    "plt.imshow(seg_map, cmap='jet')\n",
    "plt.axis('off')\n",
    "\n",
    "plt.tight_layout()\n",
    "plt.show()"
   ]
  },
  {
   "cell_type": "code",
   "execution_count": 159,
   "id": "6544951d-7950-4715-9a21-555f78dfe2a0",
   "metadata": {},
   "outputs": [],
   "source": [
    "#Get bounding boxes from mask.\n",
    "def get_bounding_box(mask):\n",
    "  # get bounding box from mask\n",
    "  y_indices, x_indices = np.where(mask > 0)\n",
    "  x_min, x_max = np.min(x_indices), np.max(x_indices)\n",
    "  y_min, y_max = np.min(y_indices), np.max(y_indices)\n",
    "  # add perturbation to bounding box coordinates\n",
    "  # H, W = mask.shape\n",
    "  # x_min = max(0, x_min - np.random.randint(0, 20))\n",
    "  # x_max = min(W, x_max + np.random.randint(0, 20))\n",
    "  # y_min = max(0, y_min - np.random.randint(0, 20))\n",
    "  # y_max = min(H, y_max + np.random.randint(0, 20))\n",
    "  bbox = [x_min, y_min, x_max, y_max]\n",
    "\n",
    "  return bbox"
   ]
  },
  {
   "cell_type": "code",
   "execution_count": 160,
   "id": "ec157417-7115-4231-a693-39eac222ea50",
   "metadata": {},
   "outputs": [
    {
     "data": {
      "text/plain": [
       "[382, 345, 473, 418]"
      ]
     },
     "execution_count": 160,
     "metadata": {},
     "output_type": "execute_result"
    }
   ],
   "source": [
    "gt_mask = get_bounding_box(mask)\n",
    "gt_mask"
   ]
  },
  {
   "cell_type": "code",
   "execution_count": 161,
   "id": "8834d027-d531-42c8-89c5-408f59a5d6e3",
   "metadata": {},
   "outputs": [
    {
     "data": {
      "text/plain": [
       "[381, 345, 471, 399]"
      ]
     },
     "execution_count": 161,
     "metadata": {},
     "output_type": "execute_result"
    }
   ],
   "source": [
    "pred_mask = get_bounding_box(seg_map)\n",
    "pred_mask"
   ]
  },
  {
   "cell_type": "code",
   "execution_count": 162,
   "id": "48e225ef-3c39-4470-aeeb-117c6b057881",
   "metadata": {},
   "outputs": [],
   "source": [
    "def calc_iou(box1, box2):\n",
    "    x1,y1,x2,y2 = box1\n",
    "    x3,y3,x4,y4 = box2\n",
    "    x_inter1 = max(x1,x3)\n",
    "    y_inter1 = max(y1,y3)\n",
    "    x_inter2 = min(x2,x4)\n",
    "    y_inter2 = min(y2,y4)\n",
    "    width_inter = abs(x_inter2-x_inter1)\n",
    "    height_inter = abs(y_inter2-y_inter1)\n",
    "    area_inter= width_inter * height_inter\n",
    "    width_box1 = abs(x2-x1)\n",
    "    height_box1 = abs(y2-y1)\n",
    "    width_box2 = abs(x4-x3)\n",
    "    height_box2 = abs(y4-y3)\n",
    "    area_box1 = width_box1 * height_box1\n",
    "    area_box2 = width_box2 * height_box2\n",
    "    area_union = area_box1 + area_box2 - area_inter\n",
    "    iou = area_inter / area_union\n",
    "    return iou"
   ]
  },
  {
   "cell_type": "code",
   "execution_count": 165,
   "id": "1179a902-943b-4cff-b535-3ac2b7429aca",
   "metadata": {},
   "outputs": [
    {
     "data": {
      "text/plain": [
       "0.7176347618336568"
      ]
     },
     "execution_count": 165,
     "metadata": {},
     "output_type": "execute_result"
    }
   ],
   "source": [
    "calc_iou(gt_mask, pred_mask)"
   ]
  },
  {
   "cell_type": "code",
   "execution_count": null,
   "id": "e5cb4966-ec6d-48cf-a5c4-49ca31753f1a",
   "metadata": {},
   "outputs": [],
   "source": []
  }
 ],
 "metadata": {
  "kernelspec": {
   "display_name": "Python 3 (ipykernel)",
   "language": "python",
   "name": "python3"
  },
  "language_info": {
   "codemirror_mode": {
    "name": "ipython",
    "version": 3
   },
   "file_extension": ".py",
   "mimetype": "text/x-python",
   "name": "python",
   "nbconvert_exporter": "python",
   "pygments_lexer": "ipython3",
   "version": "3.11.9"
  }
 },
 "nbformat": 4,
 "nbformat_minor": 5
}
