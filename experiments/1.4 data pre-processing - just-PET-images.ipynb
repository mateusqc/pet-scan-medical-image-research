{
 "cells": [
  {
   "cell_type": "code",
   "execution_count": 1,
   "id": "85c4314c-c97c-4555-a5b9-42994306ff1d",
   "metadata": {},
   "outputs": [],
   "source": [
    "import os\n",
    "import pathlib\n",
    "import pandas as pd\n",
    "import random\n",
    "import numpy as np\n",
    "import matplotlib.pyplot as plt\n",
    "from dataclasses import dataclass\n",
    "import nibabel as nib\n",
    "from nilearn import plotting\n",
    "import cv2\n",
    "from tqdm import tqdm"
   ]
  },
  {
   "cell_type": "code",
   "execution_count": null,
   "id": "b42fb4af-9991-4026-a5bb-8dc85d0383f4",
   "metadata": {},
   "outputs": [],
   "source": [
    "@dataclass(frozen=True)\n",
    "class DatasetConfig:\n",
    "    NUM_CLASSES: int = 43\n",
    "    IMG_HEIGHT:  int = 224\n",
    "    IMG_WIDTH:   int = 224\n",
    "    CHANNELS:    int = 3\n",
    "    SEED_VALUE:  int = 41\n",
    "    CUT_PLANE:   str = \"sagital\"\n",
    "         \n",
    "    DATA_ROOT_SOURCE_PATH: str = 'D:\\\\Autopet_v1.1\\\\2024-05-10_Autopet_v1.1'\n",
    "    MAIN_DATA_CSV_PATH: str = DATA_ROOT_SOURCE_PATH + '\\\\fdg_metadata.csv'\n",
    "    DATA_ROOT_TARGET:  str = f'D:\\\\images\\\\{CUT_PLANE}' \n",
    "    DATA_ROOT_TRAIN:  str = DATA_ROOT_TARGET + '/Train' \n",
    "    DATA_ROOT_VALID:  str = DATA_ROOT_TARGET + '/Valid'\n",
    "    DATA_ROOT_TEST:   str = DATA_ROOT_TARGET + '/Test'\n",
    "    DATA_TEST_GT:     str = DATA_ROOT_TARGET + '/Test.csv'"
   ]
  },
  {
   "cell_type": "code",
   "execution_count": null,
   "id": "6f403576-a1da-4783-aca4-2038b353cda5",
   "metadata": {},
   "outputs": [],
   "source": [
    "random.seed(DatasetConfig.SEED_VALUE)\n",
    "np.random.seed(DatasetConfig.SEED_VALUE)"
   ]
  },
  {
   "cell_type": "code",
   "execution_count": null,
   "id": "793cbaeb-0808-405e-a741-eb8d50bfef2e",
   "metadata": {},
   "outputs": [],
   "source": [
    "fdg_data = pd.read_csv(DatasetConfig.MAIN_DATA_CSV_PATH)\n",
    "fdg_data"
   ]
  },
  {
   "cell_type": "code",
   "execution_count": null,
   "id": "03973a3a-c54c-473c-b1b0-7fefad80af62",
   "metadata": {},
   "outputs": [],
   "source": [
    "fdg_data[\"Number of Images\"].describe()"
   ]
  },
  {
   "cell_type": "code",
   "execution_count": null,
   "id": "e442268f-cdc8-478a-a1dd-763e44d40760",
   "metadata": {},
   "outputs": [],
   "source": [
    "def get_image_path(record):\n",
    "    prefix = record[\"Subject ID\"].split(\"_\")[-1]\n",
    "    sufix = record[\"File Location\"].split(\"/\")[-2]\n",
    "    folder = \"labelsTr\" if record[\"Modality\"] == \"SEG\" else \"imagesTr\"\n",
    "    \n",
    "    final_number = \"\"\n",
    "    if record[\"Modality\"] == \"CT\":\n",
    "        final_number = \"_0000\"\n",
    "    if record[\"Modality\"] == \"PT\":\n",
    "        final_number = \"_0001\"\n",
    "        \n",
    "    return DatasetConfig.DATA_ROOT_SOURCE_PATH + f\"/{folder}/fdg_{prefix}_{sufix}{final_number}.nii.gz\""
   ]
  },
  {
   "cell_type": "markdown",
   "id": "e490f76b-c4ed-4ff4-bcdb-2be318ddc966",
   "metadata": {},
   "source": [
    "Target Folder Tree:\n",
    "\n",
    "0 subject_id-study_uid-image_index.png                                     \n",
    "1 subject_id-study_uid-image_index.png"
   ]
  },
  {
   "cell_type": "code",
   "execution_count": null,
   "id": "1d1339e8-5e03-474d-8e2b-8eb1cd6be8d8",
   "metadata": {},
   "outputs": [],
   "source": [
    "fdg_data"
   ]
  },
  {
   "cell_type": "code",
   "execution_count": null,
   "id": "45ed568a-dae5-49a8-94e7-9f5a90d381a5",
   "metadata": {},
   "outputs": [],
   "source": [
    "pre_processed_df = fdg_data.copy()"
   ]
  },
  {
   "cell_type": "code",
   "execution_count": null,
   "id": "1c1b3f31-6d93-472b-8b1d-d046e8938097",
   "metadata": {},
   "outputs": [],
   "source": [
    "pre_processed_df.diagnosis = pre_processed_df.diagnosis.apply(lambda x: \"POSITIVE\" if x != \"NEGATIVE\" else x)\n",
    "pre_processed_df = pre_processed_df[[\"Subject ID\",\"Study UID\",\"Modality\",\"Number of Images\",\"File Location\",\"diagnosis\"]]\n",
    "pre_processed_df"
   ]
  },
  {
   "cell_type": "code",
   "execution_count": null,
   "id": "cd9657b5-a644-499e-813b-965aa0900869",
   "metadata": {},
   "outputs": [],
   "source": [
    "pre_processed_df[\"Study UID\"].iloc[0]"
   ]
  },
  {
   "cell_type": "code",
   "execution_count": null,
   "id": "804495a0-280e-485e-be5e-90773b6cf97e",
   "metadata": {},
   "outputs": [],
   "source": [
    "single_reg_df = pre_processed_df[[\"Subject ID\", \"Study UID\", \"diagnosis\"]].copy().drop_duplicates()\n",
    "# adding columns to dataframe \n",
    "single_reg_df[\"sliceNum\"] = None\n",
    "single_reg_df[\"totalSlices\"] = None\n",
    "single_reg_df[\"filePath\"] = None\n",
    "single_reg_df[\"height\"] = None\n",
    "single_reg_df[\"width\"] = None\n",
    "single_reg_df"
   ]
  },
  {
   "cell_type": "code",
   "execution_count": null,
   "id": "ee3709fa-274c-481e-83c0-16b98b4158bf",
   "metadata": {},
   "outputs": [],
   "source": [
    "single_reg_df.diagnosis.value_counts()"
   ]
  },
  {
   "cell_type": "code",
   "execution_count": null,
   "id": "640d7fd2-29b7-4e22-a415-00fac726ca28",
   "metadata": {},
   "outputs": [],
   "source": [
    "target_data_df = single_reg_df.iloc[0:0].copy()\n",
    "target_data_df"
   ]
  },
  {
   "cell_type": "code",
   "execution_count": null,
   "id": "4bd90f3b-5608-44f2-9253-d9e0976bd847",
   "metadata": {},
   "outputs": [],
   "source": [
    "def get_modalities_from_study_uid(study_uid):\n",
    "    row_CT = pre_processed_df[(pre_processed_df[\"Study UID\"] == study_uid) & (pre_processed_df[\"Modality\"] == \"CT\")].iloc[0]\n",
    "    row_PET = pre_processed_df[(pre_processed_df[\"Study UID\"] == study_uid) & (pre_processed_df[\"Modality\"] == \"PT\")].iloc[0]\n",
    "    row_SEG = pre_processed_df[(pre_processed_df[\"Study UID\"] == study_uid) & (pre_processed_df[\"Modality\"] == \"SEG\")].iloc[0]\n",
    "    return row_CT, row_PET, row_SEG"
   ]
  },
  {
   "cell_type": "code",
   "execution_count": null,
   "id": "366a2b90-a8c7-48d4-9983-95333b1c66d7",
   "metadata": {},
   "outputs": [],
   "source": [
    "def get_highest_activation_seg(seg_img, slices_num, cut_plane=\"coronal\"):\n",
    "    selected_slice = 0\n",
    "    curr_max_pixels = 0\n",
    "    pixel_count_list = []\n",
    "    for i in range(slices_num):\n",
    "        curr_image = None\n",
    "        if cut_plane == \"coronal\":\n",
    "            curr_image = seg_img[:, i, :]\n",
    "        elif cut_plane == \"sagital\":\n",
    "            curr_image = seg_img[i, :, :]\n",
    "        else:\n",
    "            curr_image = seg_img[:, :, i]\n",
    "        num_of_non_null_pixels = curr_image[curr_image != 0].size\n",
    "        pixel_count_list.append(num_of_non_null_pixels)\n",
    "        if num_of_non_null_pixels > curr_max_pixels:\n",
    "            curr_max_pixels = num_of_non_null_pixels\n",
    "            selected_slice = i\n",
    "\n",
    "    # print(len(pixel_count_list))\n",
    "    return selected_slice"
   ]
  },
  {
   "cell_type": "code",
   "execution_count": null,
   "id": "d08ccc4b-bfdf-4f07-bd25-c57542b10704",
   "metadata": {},
   "outputs": [],
   "source": [
    "def show_all_modalities(seg_img, pet_img, ct_img):\n",
    "    plt.imshow(seg_img, cmap=\"hot\")\n",
    "    plt.show()\n",
    "\n",
    "    plt.imshow(pet_img.T, cmap=\"gist_yarg\", origin='lower')\n",
    "    plt.show()\n",
    "\n",
    "    plt.imshow(ct_img.T, cmap=\"gray\", origin='lower')\n",
    "    plt.show()"
   ]
  },
  {
   "cell_type": "code",
   "execution_count": null,
   "id": "86df3f03-82e9-41a9-90fe-68a92f6a7381",
   "metadata": {},
   "outputs": [],
   "source": [
    "def get_plane(seg, pet, ct, slice_index, plane):\n",
    "    if plane == 'coronal':\n",
    "        return seg[:, slice_index, :], pet[:, slice_index, :], ct[:, slice_index, :]\n",
    "    elif plane == 'sagital':\n",
    "        return seg[slice_index, :, :], pet[slice_index, :, :], ct[slice_index, :, :]\n",
    "    else:\n",
    "        return seg[:, :, slice_index], pet[:, :, slice_index], ct[:, :, slice_index]"
   ]
  },
  {
   "cell_type": "code",
   "execution_count": null,
   "id": "62844dbc-72f0-4937-a3dd-cab33a5c2a46",
   "metadata": {},
   "outputs": [],
   "source": [
    "def get_full_image_from_slices(pet, ct):\n",
    "    blank_channel = np.zeros((len(ct), len(ct[0]))) # gera terceiro canal da imagem vazio, preenchido de zeros\n",
    "    np_img = np.dstack((ct, pet, blank_channel))\n",
    "    return np.rot90(np_img, k=1, axes = (0,1))"
   ]
  },
  {
   "cell_type": "code",
   "execution_count": null,
   "id": "d60d1a8b-b35b-446a-9a6e-bb82220d0c95",
   "metadata": {},
   "outputs": [],
   "source": [
    "def get_target_file_name(row, cut_index):\n",
    "    return f\"{DatasetConfig.DATA_ROOT_TARGET}\\\\{row['Subject ID']}-{row['Study UID']}-{cut_index}.png\""
   ]
  },
  {
   "cell_type": "code",
   "execution_count": null,
   "id": "1e3acbab-dd47-4ca7-8fc1-26df75d9d15f",
   "metadata": {},
   "outputs": [],
   "source": [
    "def get_num_slices_from_cut_plane(shape, cut_plane=\"coronal\"):\n",
    "    if cut_plane == \"coronal\":\n",
    "        return shape[1]\n",
    "    elif cut_plane == \"sagital\":\n",
    "        return shape[0]\n",
    "    else:\n",
    "        return shape[2]"
   ]
  },
  {
   "cell_type": "code",
   "execution_count": null,
   "id": "e733107d-80f6-44da-bacb-e86abe106f4c",
   "metadata": {},
   "outputs": [],
   "source": [
    "def get_equivalent_slice(origin_selected, origin_total, target_total):\n",
    "    return (target_total * origin_selected) // origin_total"
   ]
  },
  {
   "cell_type": "code",
   "execution_count": 2,
   "id": "1e33f5d6-976b-4fb2-b913-3b371b9ef43c",
   "metadata": {},
   "outputs": [],
   "source": [
    "def process_positive_element(study_uid, cut_plane=\"sagital\"):\n",
    "  \n",
    "    positive_CT, positive_PET, positive_SEG = get_modalities_from_study_uid(study_uid)\n",
    "    \n",
    "    seg_nib = nib.load(get_image_path(positive_SEG))\n",
    "    seg_img = seg_nib.get_fdata()\n",
    "\n",
    "    slices_num = get_num_slices_from_cut_plane(seg_nib.shape, cut_plane)\n",
    "    \n",
    "    selected_slice = get_highest_activation_seg(seg_img, slices_num, cut_plane)\n",
    "    \n",
    "    # Load PET image\n",
    "    pet_nib = nib.load(get_image_path(positive_PET))\n",
    "    pet_img = pet_nib.get_fdata()\n",
    "    \n",
    "    # Extract the PET image cut for the selected slice and plane\n",
    "    _, pos_pet_cut, _ = get_plane(seg_img, pet_img, pet_img, selected_slice, cut_plane)\n",
    "    \n",
    "    # Save the PET image slice\n",
    "    pos_img_path = get_target_file_name(positive_PET, selected_slice)\n",
    "    cv2.imwrite(pos_img_path, pos_pet_cut)\n",
    "\n",
    "    #Process to negative class\n",
    "    random_neg_sample = single_reg_df[(single_reg_df.diagnosis == \"NEGATIVE\") & (~single_reg_df[\"Study UID\"].isin(target_data_df[\"Study UID\"]))].sample(random_state=DatasetConfig.SEED_VALUE).iloc[0]\n",
    "\n",
    "    neg_CT, neg_PET, neg_SEG = get_modalities_from_study_uid(random_neg_sample[\"Study UID\"])\n",
    "\n",
    "    neg_pet_nib = nib.load(get_image_path(neg_PET))\n",
    "    neg_pet_img = neg_pet_nib.get_fdata()\n",
    "\n",
    "    slices_num_neg = get_num_slices_from_cut_plane(neg_pet_nib.shape, cut_plane)\n",
    "\n",
    "    neg_selected_slice = get_equivalent_slice(selected_slice, slices_num, slices_num_neg)\n",
    "\n",
    "    _, neg_pet_cut, _ = get_plane(neg_pet_img, neg_pet_img, neg_pet_img, neg_selected_slice, cut_plane)\n",
    "\n",
    "    # Save the PET image slice\n",
    "    neg_img_path = get_target_file_name(neg_PET, neg_selected_slice)\n",
    "    cv2.imwrite(neg_img_path, neg_pet_cut)\n",
    "\n",
    "    return (study_uid, pet_nib.shape, selected_slice, pos_img_path, \n",
    "            random_neg_sample[\"Study UID\"], neg_pet_nib.shape, neg_selected_slice, neg_img_path)"
   ]
  },
  {
   "cell_type": "code",
   "execution_count": null,
   "id": "66f11f63-b479-485d-a69c-86021b1ff22c",
   "metadata": {},
   "outputs": [],
   "source": [
    "single_reg_df[single_reg_df.diagnosis == \"POSITIVE\"]"
   ]
  },
  {
   "cell_type": "code",
   "execution_count": null,
   "id": "0fefaf9b-a0c9-4de8-b919-5e9c0a33b21b",
   "metadata": {},
   "outputs": [],
   "source": [
    "def add_record_to_target_df(study_uid, shape, selected_slice, image_path, cut_plane=\"coronal\"):\n",
    "    row = single_reg_df[single_reg_df[\"Study UID\"] == study_uid].to_dict(orient='records')[0]\n",
    "    # print(row)\n",
    "    row[\"totalSlices\"] = shape[1]\n",
    "    row[\"sliceNum\"] = selected_slice\n",
    "    row[\"filePath\"] = image_path.replace(DatasetConfig.DATA_ROOT_TARGET, '') # removing root absolute path, leaving only relative path\n",
    "\n",
    "    #print(image_path)\n",
    "    img = cv2.imread(image_path)\n",
    "    height, width, channels = img.shape\n",
    "    \n",
    "    row[\"height\"] = height\n",
    "    row[\"width\"] = width\n",
    "    \n",
    "    return pd.concat([target_data_df, pd.DataFrame([row])], ignore_index=True)"
   ]
  },
  {
   "cell_type": "code",
   "execution_count": null,
   "id": "545aa4aa-8808-4e40-a65d-1510ae646323",
   "metadata": {},
   "outputs": [],
   "source": [
    "target_data_df"
   ]
  },
  {
   "cell_type": "code",
   "execution_count": null,
   "id": "1016e07b-2901-4170-aba0-8d73bdc9e203",
   "metadata": {},
   "outputs": [],
   "source": [
    "positive_records_df = single_reg_df[single_reg_df.diagnosis == \"POSITIVE\"]\n",
    "rows_to_iterate = positive_records_df.sample(random_state=DatasetConfig.SEED_VALUE +123, frac=1)\n",
    "\n",
    "for index, row in tqdm(rows_to_iterate.iterrows(), total=len(rows_to_iterate)):\n",
    "    pos_study_uid, pos_shape, pos_selected_slice, pos_img_path, neg_study_uid, neg_shape, neg_selected_slice, neg_img_path = process_positive_element(row[\"Study UID\"], DatasetConfig.CUT_PLANE)\n",
    "    target_data_df = add_record_to_target_df(pos_study_uid, pos_shape, pos_selected_slice, pos_img_path)\n",
    "    target_data_df = add_record_to_target_df(neg_study_uid, neg_shape, neg_selected_slice, neg_img_path)\n",
    "    #break"
   ]
  },
  {
   "cell_type": "code",
   "execution_count": null,
   "id": "0789e5aa-b1d9-4975-a9a4-80a9110788f3",
   "metadata": {},
   "outputs": [],
   "source": [
    "target_data_df"
   ]
  },
  {
   "cell_type": "code",
   "execution_count": null,
   "id": "5db4b91a-81d2-45b7-b8c3-70efa4348d1b",
   "metadata": {},
   "outputs": [],
   "source": [
    "target_data_df.to_csv(f\"{DatasetConfig.DATA_ROOT_TARGET}/data_description.csv\")"
   ]
  },
  {
   "cell_type": "code",
   "execution_count": null,
   "id": "34ee8a2e-a8d3-4be7-8601-55cd025c84b4",
   "metadata": {},
   "outputs": [],
   "source": [
    "!ls /home/jovyan/work/data/pre-processed-autopet-min-coronal/"
   ]
  },
  {
   "cell_type": "code",
   "execution_count": null,
   "id": "238b5456-e878-4c7d-b186-29be314dacf2",
   "metadata": {},
   "outputs": [],
   "source": [
    "import nibabel as nib\n",
    "import matplotlib.pyplot as plt\n",
    "\n",
    "# Carregar a imagem NIfTI\n",
    "img = nib.load('D:/Autopet_v1.1/2024-05-10_Autopet_v1.1/imagesTr/fdg_0af7ffe12a_08-12-2005-NA-PET-CT Ganzkoerper  primaer mit KM-96698_0000.nii.gz')\n",
    "\n",
    "# Verificar a forma da imagem\n",
    "print(f\"Dimensões da imagem: {img.shape}\")\n",
    "\n",
    "# Pegar a matriz de dados da imagem\n",
    "data = img.get_fdata()\n",
    "\n",
    "# Visualizar a primeira fatia da imagem (por exemplo, fatia axial)\n",
    "plt.imshow(data[:, :, data.shape[2] // 2], cmap='gray')\n",
    "plt.show()"
   ]
  },
  {
   "cell_type": "code",
   "execution_count": null,
   "id": "5a4f3c28-4b06-4d08-ba9f-b49e1ab0aacb",
   "metadata": {},
   "outputs": [],
   "source": []
  }
 ],
 "metadata": {
  "kernelspec": {
   "display_name": "Python 3 (ipykernel)",
   "language": "python",
   "name": "python3"
  },
  "language_info": {
   "codemirror_mode": {
    "name": "ipython",
    "version": 3
   },
   "file_extension": ".py",
   "mimetype": "text/x-python",
   "name": "python",
   "nbconvert_exporter": "python",
   "pygments_lexer": "ipython3",
   "version": "3.11.9"
  }
 },
 "nbformat": 4,
 "nbformat_minor": 5
}
